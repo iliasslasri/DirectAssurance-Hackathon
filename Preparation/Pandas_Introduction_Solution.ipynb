{
 "cells": [
  {
   "cell_type": "markdown",
   "id": "d7169638",
   "metadata": {
    "deletable": false,
    "editable": false,
    "run_control": {
     "frozen": true
    }
   },
   "source": [
    "<center><img src=\"https://is1-ssl.mzstatic.com/image/thumb/Purple122/v4/05/e7/67/05e76784-3364-b535-7e20-b3f4946a56b6/AppIcon-0-0-1x_U007emarketing-0-0-0-7-0-0-sRGB-0-0-0-GLES2_U002c0-512MB-85-220-0-0.png/434x0w.webp\" style=\"height:150px\"></center>\n",
    "\n",
    "\n",
    "## <p style=\"text-align:center\"><span style=\"color:blue\">Pandas for Data Processing - Introduction </span></p>\n",
    "\n",
    "**Authors** : Saad LABRIJI, Pierre ADEIKALAM\n",
    "\n",
    "In this practical **hands-on training notebook**, we will explore the versatile **pandas** library, a powerful tool for data analysis and preprocessing.\n",
    "\n",
    "**Pandas** offers a wide range of features and capabilities for data manipulation, including:\n",
    "- High-performance, user-friendly data structures.\n",
    "- Effective data analysis tools.\n",
    "- The central data structure, the **DataFrame**, resembling an in-memory 2D table akin to a spreadsheet, complete with column names and row labels.\n",
    "- Programmatic access to Excel-like functionalities such as pivot tables, calculated columns, graph plotting, and more.\n",
    "- The ability to group rows by column values and perform table joins, similar to **SQL** operations.\n",
    "- Strong support for handling time series data.\n",
    "\n",
    "Do the exercises in order and if you need to see the solution, check the notebook \"Pandas_Introduction_Solution\".\n",
    "\n",
    "# Part 1 : Data Exploration\n",
    "\n",
    "The first step to working with pandas is to import it using the `import` command.\n",
    "\n",
    "* Run the cell below to import `pandas` under the alias `pd`."
   ]
  },
  {
   "cell_type": "code",
   "execution_count": 1,
   "id": "90ab1e24",
   "metadata": {
    "deletable": false,
    "editable": false
   },
   "outputs": [],
   "source": [
    "import pandas as pd"
   ]
  },
  {
   "cell_type": "markdown",
   "id": "26f8e5cf",
   "metadata": {
    "deletable": false,
    "editable": false,
    "run_control": {
     "frozen": true
    }
   },
   "source": [
    "### Loading Data\n",
    "\n",
    "We need to import some data to work with. To this end, we use the **`pd.read_csv`** function to import data that are contained in a **CSV file**.\n",
    "\n",
    "**CSV** stands for **C**omma-**S**eparated **V**alues, and is a very common standard for writing data. Each row of the CSV file contains a row of data where each value is separated by a comma.\n",
    "\n",
    "Usually, the first row of a CSV file contains the column names. This row is named the **header**.\n",
    "\n",
    "Here is an example of a CSV file:\n",
    "\n",
    "```\n",
    "id,first_name,last_name,age\n",
    "0,Daniel,Rickman,18\n",
    "1,Alan,Wake,38\n",
    "2,Niko,Bellic,47\n",
    "```\n",
    "\n",
    "The file contains 3 rows of data, with the columns `id`, `first_name`, `last_name` and `age`.\n",
    "\n",
    "In order to read a CSV file and load its data, the `pd.read_csv` function needs to be used as follows:\n",
    "\n",
    "```py\n",
    "df = pd.read_csv(\"filename.csv\", args...)\n",
    "```\n",
    "\n",
    "The first argument of the function is always the name of the file containing the data you want to import. If the data loading is successful, then the data will be stored in the variable **`df`**. The `args` are additional arguments that you may need to add to import data correctly. For example:\n",
    "\n",
    "```py\n",
    "df = pd.read_csv(\"filename.csv\", sep = ';')\n",
    "```\n",
    "\n",
    "We might want to use the **`sep`** argument when the values in the CSV file are not separated by a comma but by some other character. In France, it is common that values are separated by **`';'`** because French people write decimals with a comma instead of a dot.\n",
    "\n",
    "To see a full list of the parameters of the `pd.read_csv` function, you may [read its documentation here](https://pandas.pydata.org/docs/reference/api/pandas.read_csv.html).\n",
    "\n",
    "* Import the data contained in the file **`\"first_csv_example.csv\"`** into a variable named **`df`**. The separating character that should be used is **`':'`**."
   ]
  },
  {
   "cell_type": "code",
   "execution_count": 2,
   "id": "5bc7ad90",
   "metadata": {
    "deletable": false,
    "editable": false
   },
   "outputs": [],
   "source": [
    "df = pd.read_csv(\"first_csv_example.csv\", sep = ':')\n",
    "\n"
   ]
  },
  {
   "cell_type": "markdown",
   "id": "0b663340",
   "metadata": {
    "deletable": false,
    "editable": false,
    "run_control": {
     "frozen": true
    }
   },
   "source": [
    "Once you have run this function, you may inspect the first rows of your data using the **`head`** method of **`df`**:\n",
    "\n",
    "```py\n",
    "df.head()\n",
    "```\n",
    "\n",
    "* Run the cell below to display the first 5 rows of **`df`**."
   ]
  },
  {
   "cell_type": "code",
   "execution_count": 3,
   "id": "c433e5d0",
   "metadata": {
    "deletable": false,
    "editable": false
   },
   "outputs": [
    {
     "data": {
      "text/html": [
       "<div>\n",
       "<style scoped>\n",
       "    .dataframe tbody tr th:only-of-type {\n",
       "        vertical-align: middle;\n",
       "    }\n",
       "\n",
       "    .dataframe tbody tr th {\n",
       "        vertical-align: top;\n",
       "    }\n",
       "\n",
       "    .dataframe thead th {\n",
       "        text-align: right;\n",
       "    }\n",
       "</style>\n",
       "<table border=\"1\" class=\"dataframe\">\n",
       "  <thead>\n",
       "    <tr style=\"text-align: right;\">\n",
       "      <th></th>\n",
       "      <th>id</th>\n",
       "      <th>first_name</th>\n",
       "      <th>last_name</th>\n",
       "      <th>age</th>\n",
       "    </tr>\n",
       "  </thead>\n",
       "  <tbody>\n",
       "    <tr>\n",
       "      <th>0</th>\n",
       "      <td>0</td>\n",
       "      <td>Daniel</td>\n",
       "      <td>Rickman</td>\n",
       "      <td>18</td>\n",
       "    </tr>\n",
       "    <tr>\n",
       "      <th>1</th>\n",
       "      <td>1</td>\n",
       "      <td>Alan</td>\n",
       "      <td>Wake</td>\n",
       "      <td>38</td>\n",
       "    </tr>\n",
       "    <tr>\n",
       "      <th>2</th>\n",
       "      <td>2</td>\n",
       "      <td>Niko</td>\n",
       "      <td>Bellic</td>\n",
       "      <td>47</td>\n",
       "    </tr>\n",
       "  </tbody>\n",
       "</table>\n",
       "</div>"
      ],
      "text/plain": [
       "   id first_name last_name  age\n",
       "0   0     Daniel   Rickman   18\n",
       "1   1       Alan      Wake   38\n",
       "2   2       Niko    Bellic   47"
      ]
     },
     "execution_count": 3,
     "metadata": {},
     "output_type": "execute_result"
    }
   ],
   "source": [
    "df.head()"
   ]
  },
  {
   "cell_type": "markdown",
   "id": "b807770a",
   "metadata": {
    "deletable": false,
    "editable": false,
    "run_control": {
     "frozen": true
    }
   },
   "source": [
    "The object `df` is an instance of the **`DataFrame`** class. `DataFrames` behave much like arrays but they are much more than that as the `DataFrame` class will allow us to perform all kinds of transformations and manipulation to our data thanks to its useful methods. \n",
    "\n",
    "### `DataFrame` indexing\n",
    "\n",
    "We refer to indexing as the act of selecting a specific row or column of some array of data. \n",
    "\n",
    "Selecting a column with a pandas `DataFrame` is usually done by using **`brackets`** and specifying the name of the column we want to retrieve. For example:\n",
    "\n",
    "```py\n",
    "# Select the \"first_name\" column\n",
    "df[\"first_name\"]\n",
    "\n",
    "# Select the \"age\" column\n",
    "df[\"age\"]\n",
    "\n",
    "# We can select multiple columns at once by passing a list of strings inside the brackets\n",
    "df[[\"first_name\", \"age\"]]\n",
    "```\n",
    "\n",
    "If we want to select values using the row or column number, we need to use the **`iloc`** indexer. Indeed, **`.iloc`** is used for **integer-based** indexing as follows:\n",
    "\n",
    "```py\n",
    "# Select the whole first row\n",
    "df.iloc[0]\n",
    "\n",
    "# Select the whole last row\n",
    "df.iloc[-1]\n",
    "\n",
    "# Select the value in the first row and second column\n",
    "df.iloc[0, 1]\n",
    "\n",
    "# Select the second value of the first and third row\n",
    "df.iloc[[0, 2], 1]\n",
    "\n",
    "# Select the whole second column\n",
    "df.iloc[:, 1]\n",
    "```\n",
    "\n",
    "We will come back to define what `:` does later. For now, suppose it serves as a way to select many values at once.\n",
    "\n",
    "Another way of selecting values is to use **label-based** indexing (as opposed to **integer-based** indexing). \n",
    "\n",
    "The columns of a `DataFrame` are labelled with their column names. In the previous example, the label of the first column is **`\"first_name\"`**.\n",
    "\n",
    "Rows of a `DataFrame` are also labelled. By default, they are labelled using integers starting from 0, but they can be labelled using anything else. \n",
    "\n",
    "In order to access a value using the label of its row and its column, we need to use the **.loc** indexing method.\n",
    "\n",
    "```py\n",
    "# Select the whole first row\n",
    "df.loc[0] # same as iloc if the row labels are numbers\n",
    "\n",
    "# The following will not work because no row is labelled \"-1\".\n",
    "df.loc[-1] # -> Will generate an error\n",
    "\n",
    "# Select the value in the first row and second column\n",
    "df.loc[0, \"first_name\"]\n",
    "\n",
    "# Select the \"last_name\" value of the first and third row\n",
    "df.loc[[0, 2], \"last_name\"]\n",
    "\n",
    "# Select the whole second column\n",
    "df.loc[:, \"first_name\"]\n",
    "```\n",
    "\n",
    "As an exercise, do the following:\n",
    "\n",
    "* Import the data contained in the **`\"indexing_exercise.csv\"`**.\n",
    "\n",
    "* Select the `\"age\"` column.\n",
    "* Select the last row using `iloc` indexing.\n",
    "* Select the value in the second row and `\"last_name\"` column using `loc` indexing.\n",
    "* Select the `\"first_name\"` and `\"city\"` columns for the first and third rows using `loc` indexing.\n",
    "* Select the values in the third column using `iloc` indexing."
   ]
  },
  {
   "cell_type": "code",
   "execution_count": 4,
   "id": "8e96b245",
   "metadata": {
    "deletable": false,
    "editable": false
   },
   "outputs": [
    {
     "data": {
      "text/plain": [
       "0    25\n",
       "1    30\n",
       "2    35\n",
       "3    40\n",
       "Name: age, dtype: int64"
      ]
     },
     "execution_count": 4,
     "metadata": {},
     "output_type": "execute_result"
    }
   ],
   "source": [
    "df = pd.read_csv(\"indexing_exercise.csv\")\n",
    "\n",
    "# Select the \"age\" column using bracket notation\n",
    "df[\"age\"]\n",
    "\n",
    "# Select the last row using iloc indexing\n",
    "df.iloc[-1]\n",
    "\n",
    "# Select the value in the second row and \"last_name\" column using loc indexing\n",
    "df.loc[1, \"last_name\"]\n",
    "\n",
    "# Select the \"first_name\" and \"city\" columns for the first and third rows using loc indexing\n",
    "df.loc[[0, 2], [\"first_name\", \"city\"]]\n",
    "\n",
    "# Select the values in the third column using iloc indexing\n",
    "df.iloc[:, 2]"
   ]
  },
  {
   "cell_type": "markdown",
   "id": "cb63ec65",
   "metadata": {
    "deletable": false,
    "editable": false,
    "run_control": {
     "frozen": true
    }
   },
   "source": [
    "### Statistics\n",
    "\n",
    "Statistics are useful to understand the content of your data and generate insights. In this section we will cover the basic statistical functions provided by pandas, such as mean, standard deviation, minimum, maximum and more. Let's get started!\n",
    "\n",
    "The mean is a commonly used statistic that represents the average value of a set of numbers. In pandas, you can compute the mean using the `.mean()` method after selecting a column you want to compute the mean on. Here's an example:\n",
    "\n",
    "```py\n",
    "# Compute the mean of the \"age\" column\n",
    "df[\"age\"].mean()\n",
    ">>> 34.333333333333336\n",
    "```\n",
    "\n",
    "The standard deviation measures the spread or variability of a set of numbers. In pandas, you can calculate the standard deviation using the `.std()` method\n",
    "\n",
    "```py\n",
    "# Compute the standard deviation of the \"age\" column\n",
    "df[\"age\"].std()\n",
    ">>> 14.843629385474879\n",
    "```\n",
    "\n",
    "Pandas provides additional statistical functions that can be useful in data analysis. Some of these functions include:\n",
    "\n",
    "* `.count()`: Computes the number of elements in a column.\n",
    "* `.max()` / `.min()` : Compute the minimum and maximum values of a column.\n",
    "* `.sum()`: Computes the sum of values in a column.\n",
    "* `.median()`: Computes the median of a column.\n",
    "* `.mode()`: Computes the mode of a column, i.e. the most frequent value.\n",
    "\n",
    "In the **`\"student_grades.csv\"`** file, you will find a dataset containing information about students' exam scores in two subjects, Math and English.\n",
    "\n",
    "Using the methods you have seen up till now:\n",
    "\n",
    "* Load the data contained in the CSV file.\n",
    "* Count the number of students. \n",
    "* Calculate the mean score for each subject (Math and English).\n",
    "* Determine the maximum score in Math.\n",
    "* Find the minimum score in English.\n",
    "* Compute the standard deviation of scores for each subject.\n",
    "* Calculate the grand total of all the scores."
   ]
  },
  {
   "cell_type": "code",
   "execution_count": 5,
   "id": "63ae7851",
   "metadata": {
    "deletable": false,
    "editable": false
   },
   "outputs": [
    {
     "data": {
      "text/plain": [
       "734"
      ]
     },
     "execution_count": 5,
     "metadata": {},
     "output_type": "execute_result"
    }
   ],
   "source": [
    "# Load the data\n",
    "df = pd.read_csv(\"student_grades.csv\")\n",
    "\n",
    "# Count the number of students\n",
    "df['Name'].count()\n",
    "\n",
    "# Calculate the mean for each subject\n",
    "df['Math'].mean()\n",
    "df['English'].mean()\n",
    "\n",
    "# Determine the maximum score in Math\n",
    "df['Math'].max()\n",
    "\n",
    "# Find the minimum score in English\n",
    "df['English'].min()\n",
    "\n",
    "# Compute the standard deviation of scores for each subject\n",
    "df['Math'].std()\n",
    "df['English'].std()\n",
    "\n",
    "# Calculate the grand total of all the scores on both subjects.\n",
    "df['Math'].sum() + df['English'].sum()"
   ]
  },
  {
   "cell_type": "markdown",
   "id": "94fadc81",
   "metadata": {
    "deletable": false,
    "editable": false,
    "run_control": {
     "frozen": true
    }
   },
   "source": [
    "# Part 2 : Data Transformation\n",
    "\n",
    "### Adding and removing columns\n",
    "\n",
    "To add a new column to a pandas DataFrame, you can assign a new column name to an expression or a list of values. Run the following cell to see an example:"
   ]
  },
  {
   "cell_type": "code",
   "execution_count": 6,
   "id": "835ecf6e",
   "metadata": {
    "deletable": false,
    "editable": false
   },
   "outputs": [
    {
     "data": {
      "text/html": [
       "<div>\n",
       "<style scoped>\n",
       "    .dataframe tbody tr th:only-of-type {\n",
       "        vertical-align: middle;\n",
       "    }\n",
       "\n",
       "    .dataframe tbody tr th {\n",
       "        vertical-align: top;\n",
       "    }\n",
       "\n",
       "    .dataframe thead th {\n",
       "        text-align: right;\n",
       "    }\n",
       "</style>\n",
       "<table border=\"1\" class=\"dataframe\">\n",
       "  <thead>\n",
       "    <tr style=\"text-align: right;\">\n",
       "      <th></th>\n",
       "      <th>id</th>\n",
       "      <th>first_name</th>\n",
       "      <th>last_name</th>\n",
       "      <th>age</th>\n",
       "      <th>City</th>\n",
       "    </tr>\n",
       "  </thead>\n",
       "  <tbody>\n",
       "    <tr>\n",
       "      <th>0</th>\n",
       "      <td>0</td>\n",
       "      <td>Daniel</td>\n",
       "      <td>Rickman</td>\n",
       "      <td>18</td>\n",
       "      <td>New York</td>\n",
       "    </tr>\n",
       "    <tr>\n",
       "      <th>1</th>\n",
       "      <td>1</td>\n",
       "      <td>Alan</td>\n",
       "      <td>Wake</td>\n",
       "      <td>38</td>\n",
       "      <td>New York</td>\n",
       "    </tr>\n",
       "    <tr>\n",
       "      <th>2</th>\n",
       "      <td>2</td>\n",
       "      <td>Niko</td>\n",
       "      <td>Bellic</td>\n",
       "      <td>47</td>\n",
       "      <td>New York</td>\n",
       "    </tr>\n",
       "  </tbody>\n",
       "</table>\n",
       "</div>"
      ],
      "text/plain": [
       "   id first_name last_name  age      City\n",
       "0   0     Daniel   Rickman   18  New York\n",
       "1   1       Alan      Wake   38  New York\n",
       "2   2       Niko    Bellic   47  New York"
      ]
     },
     "execution_count": 6,
     "metadata": {},
     "output_type": "execute_result"
    }
   ],
   "source": [
    "df = pd.read_csv(\"first_csv_example.csv\", sep = ':')\n",
    "\n",
    "# Add a new column 'City' with a single value\n",
    "df['City'] = 'New York'\n",
    "\n",
    "df"
   ]
  },
  {
   "cell_type": "markdown",
   "id": "381d8989",
   "metadata": {
    "deletable": false,
    "editable": false,
    "run_control": {
     "frozen": true
    }
   },
   "source": [
    "You can also add a new column to a DataFrame based on existing columns. This is useful for performing calculations or transformations."
   ]
  },
  {
   "cell_type": "code",
   "execution_count": 7,
   "id": "b1bdc6be",
   "metadata": {
    "deletable": false,
    "editable": false
   },
   "outputs": [
    {
     "data": {
      "text/html": [
       "<div>\n",
       "<style scoped>\n",
       "    .dataframe tbody tr th:only-of-type {\n",
       "        vertical-align: middle;\n",
       "    }\n",
       "\n",
       "    .dataframe tbody tr th {\n",
       "        vertical-align: top;\n",
       "    }\n",
       "\n",
       "    .dataframe thead th {\n",
       "        text-align: right;\n",
       "    }\n",
       "</style>\n",
       "<table border=\"1\" class=\"dataframe\">\n",
       "  <thead>\n",
       "    <tr style=\"text-align: right;\">\n",
       "      <th></th>\n",
       "      <th>id</th>\n",
       "      <th>first_name</th>\n",
       "      <th>last_name</th>\n",
       "      <th>age</th>\n",
       "      <th>City</th>\n",
       "      <th>Birth Year</th>\n",
       "    </tr>\n",
       "  </thead>\n",
       "  <tbody>\n",
       "    <tr>\n",
       "      <th>0</th>\n",
       "      <td>0</td>\n",
       "      <td>Daniel</td>\n",
       "      <td>Rickman</td>\n",
       "      <td>18</td>\n",
       "      <td>New York</td>\n",
       "      <td>2005</td>\n",
       "    </tr>\n",
       "    <tr>\n",
       "      <th>1</th>\n",
       "      <td>1</td>\n",
       "      <td>Alan</td>\n",
       "      <td>Wake</td>\n",
       "      <td>38</td>\n",
       "      <td>New York</td>\n",
       "      <td>1985</td>\n",
       "    </tr>\n",
       "    <tr>\n",
       "      <th>2</th>\n",
       "      <td>2</td>\n",
       "      <td>Niko</td>\n",
       "      <td>Bellic</td>\n",
       "      <td>47</td>\n",
       "      <td>New York</td>\n",
       "      <td>1976</td>\n",
       "    </tr>\n",
       "  </tbody>\n",
       "</table>\n",
       "</div>"
      ],
      "text/plain": [
       "   id first_name last_name  age      City  Birth Year\n",
       "0   0     Daniel   Rickman   18  New York        2005\n",
       "1   1       Alan      Wake   38  New York        1985\n",
       "2   2       Niko    Bellic   47  New York        1976"
      ]
     },
     "execution_count": 7,
     "metadata": {},
     "output_type": "execute_result"
    }
   ],
   "source": [
    "# Add a new column 'Birth Year' based on 'Age' column\n",
    "df['Birth Year'] = 2023 - df['age']\n",
    "\n",
    "df"
   ]
  },
  {
   "cell_type": "markdown",
   "id": "ce531c0f",
   "metadata": {
    "deletable": false,
    "editable": false,
    "run_control": {
     "frozen": true
    }
   },
   "source": [
    "To remove a column from a pandas DataFrame, you can use the **`.drop()`** method. **You need to specify the column name and set the axis parameter to 1** to let pandas know the label you are trying to remove is a column and not a row."
   ]
  },
  {
   "cell_type": "code",
   "execution_count": 8,
   "id": "cb10018c",
   "metadata": {
    "deletable": false,
    "editable": false
   },
   "outputs": [
    {
     "data": {
      "text/html": [
       "<div>\n",
       "<style scoped>\n",
       "    .dataframe tbody tr th:only-of-type {\n",
       "        vertical-align: middle;\n",
       "    }\n",
       "\n",
       "    .dataframe tbody tr th {\n",
       "        vertical-align: top;\n",
       "    }\n",
       "\n",
       "    .dataframe thead th {\n",
       "        text-align: right;\n",
       "    }\n",
       "</style>\n",
       "<table border=\"1\" class=\"dataframe\">\n",
       "  <thead>\n",
       "    <tr style=\"text-align: right;\">\n",
       "      <th></th>\n",
       "      <th>id</th>\n",
       "      <th>first_name</th>\n",
       "      <th>last_name</th>\n",
       "      <th>age</th>\n",
       "      <th>Birth Year</th>\n",
       "    </tr>\n",
       "  </thead>\n",
       "  <tbody>\n",
       "    <tr>\n",
       "      <th>0</th>\n",
       "      <td>0</td>\n",
       "      <td>Daniel</td>\n",
       "      <td>Rickman</td>\n",
       "      <td>18</td>\n",
       "      <td>2005</td>\n",
       "    </tr>\n",
       "    <tr>\n",
       "      <th>1</th>\n",
       "      <td>1</td>\n",
       "      <td>Alan</td>\n",
       "      <td>Wake</td>\n",
       "      <td>38</td>\n",
       "      <td>1985</td>\n",
       "    </tr>\n",
       "    <tr>\n",
       "      <th>2</th>\n",
       "      <td>2</td>\n",
       "      <td>Niko</td>\n",
       "      <td>Bellic</td>\n",
       "      <td>47</td>\n",
       "      <td>1976</td>\n",
       "    </tr>\n",
       "  </tbody>\n",
       "</table>\n",
       "</div>"
      ],
      "text/plain": [
       "   id first_name last_name  age  Birth Year\n",
       "0   0     Daniel   Rickman   18        2005\n",
       "1   1       Alan      Wake   38        1985\n",
       "2   2       Niko    Bellic   47        1976"
      ]
     },
     "execution_count": 8,
     "metadata": {},
     "output_type": "execute_result"
    }
   ],
   "source": [
    "# Remove the 'City' column\n",
    "df = df.drop('City', axis=1)\n",
    "\n",
    "# If you run this cell multiple times you will get a \"KeyError\" as you are trying to \n",
    "# remove a column which no longer exists\n",
    "\n",
    "df"
   ]
  },
  {
   "cell_type": "markdown",
   "id": "38680eb5",
   "metadata": {
    "deletable": false,
    "editable": false,
    "run_control": {
     "frozen": true
    }
   },
   "source": [
    "### Datetime values\n",
    "\n",
    "\n",
    "In this section, we will cover the basics of working with datetime data, including parsing, formatting, and performing common operations on datetime values. Datetime data is usually tricky to work with but pandas makes it a lot easier.\n",
    "\n",
    "To work with datetime data in pandas, you first need to parse the datetime values from strings into the appropriate datetime format. The **`pd.to_datetime()`** function is used for this purpose. \n",
    "\n",
    "Let us load a new dataset which contains datetime values and parse the column which contains dates."
   ]
  },
  {
   "cell_type": "code",
   "execution_count": 9,
   "id": "b3f41b8d",
   "metadata": {
    "deletable": false,
    "editable": false
   },
   "outputs": [
    {
     "data": {
      "text/html": [
       "<div>\n",
       "<style scoped>\n",
       "    .dataframe tbody tr th:only-of-type {\n",
       "        vertical-align: middle;\n",
       "    }\n",
       "\n",
       "    .dataframe tbody tr th {\n",
       "        vertical-align: top;\n",
       "    }\n",
       "\n",
       "    .dataframe thead th {\n",
       "        text-align: right;\n",
       "    }\n",
       "</style>\n",
       "<table border=\"1\" class=\"dataframe\">\n",
       "  <thead>\n",
       "    <tr style=\"text-align: right;\">\n",
       "      <th></th>\n",
       "      <th>Date</th>\n",
       "      <th>City</th>\n",
       "      <th>Temperature</th>\n",
       "    </tr>\n",
       "  </thead>\n",
       "  <tbody>\n",
       "    <tr>\n",
       "      <th>0</th>\n",
       "      <td>2021-01-01 10:01:14</td>\n",
       "      <td>Paris</td>\n",
       "      <td>5</td>\n",
       "    </tr>\n",
       "    <tr>\n",
       "      <th>1</th>\n",
       "      <td>2021-02-01 11:10:55</td>\n",
       "      <td>New York</td>\n",
       "      <td>8</td>\n",
       "    </tr>\n",
       "    <tr>\n",
       "      <th>2</th>\n",
       "      <td>2021-03-01 11:30:11</td>\n",
       "      <td>London</td>\n",
       "      <td>8</td>\n",
       "    </tr>\n",
       "  </tbody>\n",
       "</table>\n",
       "</div>"
      ],
      "text/plain": [
       "                 Date      City  Temperature\n",
       "0 2021-01-01 10:01:14     Paris            5\n",
       "1 2021-02-01 11:10:55  New York            8\n",
       "2 2021-03-01 11:30:11    London            8"
      ]
     },
     "execution_count": 9,
     "metadata": {},
     "output_type": "execute_result"
    }
   ],
   "source": [
    "df = pd.read_csv(\"temperatures.csv\")\n",
    "\n",
    "# Convert the 'Date' column to datetime format\n",
    "df['Date'] = pd.to_datetime(df['Date'])\n",
    "\n",
    "df"
   ]
  },
  {
   "cell_type": "markdown",
   "id": "1ac2ab13",
   "metadata": {
    "deletable": false,
    "editable": false,
    "run_control": {
     "frozen": true
    }
   },
   "source": [
    "Pandas provides convenient methods to extract specific components (e.g., year, month, day, hour, minute) from datetime values. You can use the **`.dt`** accessor followed by the component name."
   ]
  },
  {
   "cell_type": "code",
   "execution_count": 10,
   "id": "ded8498e",
   "metadata": {
    "deletable": false,
    "editable": false
   },
   "outputs": [
    {
     "data": {
      "text/html": [
       "<div>\n",
       "<style scoped>\n",
       "    .dataframe tbody tr th:only-of-type {\n",
       "        vertical-align: middle;\n",
       "    }\n",
       "\n",
       "    .dataframe tbody tr th {\n",
       "        vertical-align: top;\n",
       "    }\n",
       "\n",
       "    .dataframe thead th {\n",
       "        text-align: right;\n",
       "    }\n",
       "</style>\n",
       "<table border=\"1\" class=\"dataframe\">\n",
       "  <thead>\n",
       "    <tr style=\"text-align: right;\">\n",
       "      <th></th>\n",
       "      <th>Date</th>\n",
       "      <th>City</th>\n",
       "      <th>Temperature</th>\n",
       "      <th>Year</th>\n",
       "      <th>Month</th>\n",
       "      <th>Day</th>\n",
       "      <th>Hour</th>\n",
       "      <th>Minute</th>\n",
       "      <th>Second</th>\n",
       "    </tr>\n",
       "  </thead>\n",
       "  <tbody>\n",
       "    <tr>\n",
       "      <th>0</th>\n",
       "      <td>2021-01-01 10:01:14</td>\n",
       "      <td>Paris</td>\n",
       "      <td>5</td>\n",
       "      <td>2021</td>\n",
       "      <td>1</td>\n",
       "      <td>1</td>\n",
       "      <td>10</td>\n",
       "      <td>1</td>\n",
       "      <td>14</td>\n",
       "    </tr>\n",
       "    <tr>\n",
       "      <th>1</th>\n",
       "      <td>2021-02-01 11:10:55</td>\n",
       "      <td>New York</td>\n",
       "      <td>8</td>\n",
       "      <td>2021</td>\n",
       "      <td>2</td>\n",
       "      <td>1</td>\n",
       "      <td>11</td>\n",
       "      <td>10</td>\n",
       "      <td>55</td>\n",
       "    </tr>\n",
       "    <tr>\n",
       "      <th>2</th>\n",
       "      <td>2021-03-01 11:30:11</td>\n",
       "      <td>London</td>\n",
       "      <td>8</td>\n",
       "      <td>2021</td>\n",
       "      <td>3</td>\n",
       "      <td>1</td>\n",
       "      <td>11</td>\n",
       "      <td>30</td>\n",
       "      <td>11</td>\n",
       "    </tr>\n",
       "  </tbody>\n",
       "</table>\n",
       "</div>"
      ],
      "text/plain": [
       "                 Date      City  Temperature  Year  Month  Day  Hour  Minute  \\\n",
       "0 2021-01-01 10:01:14     Paris            5  2021      1    1    10       1   \n",
       "1 2021-02-01 11:10:55  New York            8  2021      2    1    11      10   \n",
       "2 2021-03-01 11:30:11    London            8  2021      3    1    11      30   \n",
       "\n",
       "   Second  \n",
       "0      14  \n",
       "1      55  \n",
       "2      11  "
      ]
     },
     "execution_count": 10,
     "metadata": {},
     "output_type": "execute_result"
    }
   ],
   "source": [
    "# Extract the year, month, day, hour, minute and second from the 'Date' column\n",
    "df['Year'] = df['Date'].dt.year\n",
    "df['Month'] = df['Date'].dt.month\n",
    "df['Day'] = df['Date'].dt.day\n",
    "df['Hour'] = df['Date'].dt.hour\n",
    "df['Minute'] = df['Date'].dt.minute\n",
    "df['Second'] = df['Date'].dt.second\n",
    "\n",
    "\n",
    "df"
   ]
  },
  {
   "cell_type": "markdown",
   "id": "fa0e38f8",
   "metadata": {
    "deletable": false,
    "editable": false,
    "run_control": {
     "frozen": true
    }
   },
   "source": [
    "As an exercise, do the following:\n",
    "\n",
    "* Determine the maximum temperature measured.\n",
    "* Determine the earliest and latest dates in the dataset.\n",
    "* Determine how many days passed between the latest date and the earliest date (You can extract the `days` component from the difference between these dates. You do not need to use the **`.dt`** accessor.)"
   ]
  },
  {
   "cell_type": "code",
   "execution_count": 11,
   "id": "81ad4567",
   "metadata": {
    "deletable": false,
    "editable": false
   },
   "outputs": [
    {
     "data": {
      "text/plain": [
       "59"
      ]
     },
     "execution_count": 11,
     "metadata": {},
     "output_type": "execute_result"
    }
   ],
   "source": [
    "# Maximum temperature\n",
    "df['Temperature'].max()\n",
    "\n",
    "# Earliest and latest dates\n",
    "df['Date'].min()\n",
    "df['Date'].max()\n",
    "\n",
    "# Number of days between the two dates\n",
    "(df['Date'].max() - df['Date'].min()).days"
   ]
  },
  {
   "cell_type": "markdown",
   "id": "346ced97",
   "metadata": {
    "deletable": false,
    "editable": false,
    "run_control": {
     "frozen": true
    }
   },
   "source": [
    "### Lambda functions\n",
    "\n",
    "Lambda functions, also known as anonymous functions, are small, one-line functions that do not require a formal definition. They are useful for performing quick operations without the need to define a separate function. In pandas, lambda functions can be used in conjunction with various DataFrame methods to transform and manipulate data efficiently.\n",
    "\n",
    "```py\n",
    "# Define a lambda function that returns the square of a number\n",
    "function_square = lambda x: x**2\n",
    "\n",
    "print(function_square(6))\n",
    ">>> 36\n",
    "```\n",
    "\n",
    "\n",
    "To apply a lambda function to a DataFrame column, you can use the **`.apply()`** method. This method allows you to apply a function **element-wise** to each value in the column. Here's an example:"
   ]
  },
  {
   "cell_type": "code",
   "execution_count": 12,
   "id": "556ecf26",
   "metadata": {
    "deletable": false,
    "editable": false
   },
   "outputs": [
    {
     "data": {
      "text/html": [
       "<div>\n",
       "<style scoped>\n",
       "    .dataframe tbody tr th:only-of-type {\n",
       "        vertical-align: middle;\n",
       "    }\n",
       "\n",
       "    .dataframe tbody tr th {\n",
       "        vertical-align: top;\n",
       "    }\n",
       "\n",
       "    .dataframe thead th {\n",
       "        text-align: right;\n",
       "    }\n",
       "</style>\n",
       "<table border=\"1\" class=\"dataframe\">\n",
       "  <thead>\n",
       "    <tr style=\"text-align: right;\">\n",
       "      <th></th>\n",
       "      <th>Name</th>\n",
       "      <th>Math</th>\n",
       "      <th>English</th>\n",
       "      <th>Math_scaled</th>\n",
       "      <th>English_scaled</th>\n",
       "    </tr>\n",
       "  </thead>\n",
       "  <tbody>\n",
       "    <tr>\n",
       "      <th>0</th>\n",
       "      <td>Alice</td>\n",
       "      <td>55</td>\n",
       "      <td>78</td>\n",
       "      <td>11.0</td>\n",
       "      <td>15.6</td>\n",
       "    </tr>\n",
       "    <tr>\n",
       "      <th>1</th>\n",
       "      <td>Bob</td>\n",
       "      <td>40</td>\n",
       "      <td>82</td>\n",
       "      <td>8.0</td>\n",
       "      <td>16.4</td>\n",
       "    </tr>\n",
       "    <tr>\n",
       "      <th>2</th>\n",
       "      <td>Charlie</td>\n",
       "      <td>76</td>\n",
       "      <td>85</td>\n",
       "      <td>15.2</td>\n",
       "      <td>17.0</td>\n",
       "    </tr>\n",
       "    <tr>\n",
       "      <th>3</th>\n",
       "      <td>Dave</td>\n",
       "      <td>48</td>\n",
       "      <td>88</td>\n",
       "      <td>9.6</td>\n",
       "      <td>17.6</td>\n",
       "    </tr>\n",
       "    <tr>\n",
       "      <th>4</th>\n",
       "      <td>Eve</td>\n",
       "      <td>92</td>\n",
       "      <td>90</td>\n",
       "      <td>18.4</td>\n",
       "      <td>18.0</td>\n",
       "    </tr>\n",
       "  </tbody>\n",
       "</table>\n",
       "</div>"
      ],
      "text/plain": [
       "      Name  Math  English  Math_scaled  English_scaled\n",
       "0    Alice    55       78         11.0            15.6\n",
       "1      Bob    40       82          8.0            16.4\n",
       "2  Charlie    76       85         15.2            17.0\n",
       "3     Dave    48       88          9.6            17.6\n",
       "4      Eve    92       90         18.4            18.0"
      ]
     },
     "execution_count": 12,
     "metadata": {},
     "output_type": "execute_result"
    }
   ],
   "source": [
    "\n",
    "df = pd.read_csv(\"student_grades.csv\")\n",
    "\n",
    "# Apply a lambda function to transform the\n",
    "# grades from a scale of 1-100 to a scale of 1-20.\n",
    "\n",
    "scaling_function = lambda x: x/100 * 20\n",
    "\n",
    "df['Math_scaled'] = df['Math'].apply(scaling_function)\n",
    "df['English_scaled'] = df['English'].apply(scaling_function)\n",
    "\n",
    "# Usually, we write the lambda function inside the apply method call\n",
    "df['Math_scaled'] = df['Math'].apply(lambda x: x/100 * 20)\n",
    "df['English_scaled'] = df['English'].apply(lambda x: x/100 * 20)\n",
    "\n",
    "df"
   ]
  },
  {
   "cell_type": "markdown",
   "id": "332de78d",
   "metadata": {
    "deletable": false,
    "editable": false,
    "run_control": {
     "frozen": true
    }
   },
   "source": [
    "Lambda functions can also be combined with **conditional statements** to perform conditional transformations on DataFrame columns. This allows you to apply different operations based on specific conditions. Here's an example:"
   ]
  },
  {
   "cell_type": "code",
   "execution_count": 13,
   "id": "adbd7b6d",
   "metadata": {
    "deletable": false,
    "editable": false
   },
   "outputs": [
    {
     "data": {
      "text/html": [
       "<div>\n",
       "<style scoped>\n",
       "    .dataframe tbody tr th:only-of-type {\n",
       "        vertical-align: middle;\n",
       "    }\n",
       "\n",
       "    .dataframe tbody tr th {\n",
       "        vertical-align: top;\n",
       "    }\n",
       "\n",
       "    .dataframe thead th {\n",
       "        text-align: right;\n",
       "    }\n",
       "</style>\n",
       "<table border=\"1\" class=\"dataframe\">\n",
       "  <thead>\n",
       "    <tr style=\"text-align: right;\">\n",
       "      <th></th>\n",
       "      <th>Name</th>\n",
       "      <th>Math</th>\n",
       "      <th>English</th>\n",
       "      <th>Math_scaled</th>\n",
       "      <th>English_scaled</th>\n",
       "      <th>Passed_Math</th>\n",
       "      <th>Passed_English</th>\n",
       "    </tr>\n",
       "  </thead>\n",
       "  <tbody>\n",
       "    <tr>\n",
       "      <th>0</th>\n",
       "      <td>Alice</td>\n",
       "      <td>55</td>\n",
       "      <td>78</td>\n",
       "      <td>11.0</td>\n",
       "      <td>15.6</td>\n",
       "      <td>Pass</td>\n",
       "      <td>Pass</td>\n",
       "    </tr>\n",
       "    <tr>\n",
       "      <th>1</th>\n",
       "      <td>Bob</td>\n",
       "      <td>40</td>\n",
       "      <td>82</td>\n",
       "      <td>8.0</td>\n",
       "      <td>16.4</td>\n",
       "      <td>Failed</td>\n",
       "      <td>Pass</td>\n",
       "    </tr>\n",
       "    <tr>\n",
       "      <th>2</th>\n",
       "      <td>Charlie</td>\n",
       "      <td>76</td>\n",
       "      <td>85</td>\n",
       "      <td>15.2</td>\n",
       "      <td>17.0</td>\n",
       "      <td>Pass</td>\n",
       "      <td>Pass</td>\n",
       "    </tr>\n",
       "    <tr>\n",
       "      <th>3</th>\n",
       "      <td>Dave</td>\n",
       "      <td>48</td>\n",
       "      <td>88</td>\n",
       "      <td>9.6</td>\n",
       "      <td>17.6</td>\n",
       "      <td>Failed</td>\n",
       "      <td>Pass</td>\n",
       "    </tr>\n",
       "    <tr>\n",
       "      <th>4</th>\n",
       "      <td>Eve</td>\n",
       "      <td>92</td>\n",
       "      <td>90</td>\n",
       "      <td>18.4</td>\n",
       "      <td>18.0</td>\n",
       "      <td>Pass</td>\n",
       "      <td>Pass</td>\n",
       "    </tr>\n",
       "  </tbody>\n",
       "</table>\n",
       "</div>"
      ],
      "text/plain": [
       "      Name  Math  English  Math_scaled  English_scaled Passed_Math  \\\n",
       "0    Alice    55       78         11.0            15.6        Pass   \n",
       "1      Bob    40       82          8.0            16.4      Failed   \n",
       "2  Charlie    76       85         15.2            17.0        Pass   \n",
       "3     Dave    48       88          9.6            17.6      Failed   \n",
       "4      Eve    92       90         18.4            18.0        Pass   \n",
       "\n",
       "  Passed_English  \n",
       "0           Pass  \n",
       "1           Pass  \n",
       "2           Pass  \n",
       "3           Pass  \n",
       "4           Pass  "
      ]
     },
     "execution_count": 13,
     "metadata": {},
     "output_type": "execute_result"
    }
   ],
   "source": [
    "# Apply a lambda function with a conditional statement\n",
    "df['Passed_Math'] = df['Math_scaled'].apply(lambda x: \"Pass\" if x>=10 else 'Failed')\n",
    "df['Passed_English'] = df['English_scaled'].apply(lambda x: \"Pass\" if x>=10 else 'Failed')\n",
    "\n",
    "df"
   ]
  },
  {
   "cell_type": "markdown",
   "id": "ea54d667",
   "metadata": {
    "deletable": false,
    "editable": false,
    "run_control": {
     "frozen": true
    }
   },
   "source": [
    "Lambda functions can also be used with multiple `DataFrame` columns. For example, you can calculate a new column based on the values of two existing columns. Here's an example:"
   ]
  },
  {
   "cell_type": "code",
   "execution_count": 14,
   "id": "a9282a7b",
   "metadata": {
    "deletable": false,
    "editable": false
   },
   "outputs": [
    {
     "data": {
      "text/html": [
       "<div>\n",
       "<style scoped>\n",
       "    .dataframe tbody tr th:only-of-type {\n",
       "        vertical-align: middle;\n",
       "    }\n",
       "\n",
       "    .dataframe tbody tr th {\n",
       "        vertical-align: top;\n",
       "    }\n",
       "\n",
       "    .dataframe thead th {\n",
       "        text-align: right;\n",
       "    }\n",
       "</style>\n",
       "<table border=\"1\" class=\"dataframe\">\n",
       "  <thead>\n",
       "    <tr style=\"text-align: right;\">\n",
       "      <th></th>\n",
       "      <th>Name</th>\n",
       "      <th>Math</th>\n",
       "      <th>English</th>\n",
       "      <th>Math_scaled</th>\n",
       "      <th>English_scaled</th>\n",
       "      <th>Passed_Math</th>\n",
       "      <th>Passed_English</th>\n",
       "      <th>Passed_Grade</th>\n",
       "    </tr>\n",
       "  </thead>\n",
       "  <tbody>\n",
       "    <tr>\n",
       "      <th>0</th>\n",
       "      <td>Alice</td>\n",
       "      <td>55</td>\n",
       "      <td>78</td>\n",
       "      <td>11.0</td>\n",
       "      <td>15.6</td>\n",
       "      <td>Pass</td>\n",
       "      <td>Pass</td>\n",
       "      <td>Pass</td>\n",
       "    </tr>\n",
       "    <tr>\n",
       "      <th>1</th>\n",
       "      <td>Bob</td>\n",
       "      <td>40</td>\n",
       "      <td>82</td>\n",
       "      <td>8.0</td>\n",
       "      <td>16.4</td>\n",
       "      <td>Failed</td>\n",
       "      <td>Pass</td>\n",
       "      <td>Failed</td>\n",
       "    </tr>\n",
       "    <tr>\n",
       "      <th>2</th>\n",
       "      <td>Charlie</td>\n",
       "      <td>76</td>\n",
       "      <td>85</td>\n",
       "      <td>15.2</td>\n",
       "      <td>17.0</td>\n",
       "      <td>Pass</td>\n",
       "      <td>Pass</td>\n",
       "      <td>Pass</td>\n",
       "    </tr>\n",
       "    <tr>\n",
       "      <th>3</th>\n",
       "      <td>Dave</td>\n",
       "      <td>48</td>\n",
       "      <td>88</td>\n",
       "      <td>9.6</td>\n",
       "      <td>17.6</td>\n",
       "      <td>Failed</td>\n",
       "      <td>Pass</td>\n",
       "      <td>Failed</td>\n",
       "    </tr>\n",
       "    <tr>\n",
       "      <th>4</th>\n",
       "      <td>Eve</td>\n",
       "      <td>92</td>\n",
       "      <td>90</td>\n",
       "      <td>18.4</td>\n",
       "      <td>18.0</td>\n",
       "      <td>Pass</td>\n",
       "      <td>Pass</td>\n",
       "      <td>Pass</td>\n",
       "    </tr>\n",
       "  </tbody>\n",
       "</table>\n",
       "</div>"
      ],
      "text/plain": [
       "      Name  Math  English  Math_scaled  English_scaled Passed_Math  \\\n",
       "0    Alice    55       78         11.0            15.6        Pass   \n",
       "1      Bob    40       82          8.0            16.4      Failed   \n",
       "2  Charlie    76       85         15.2            17.0        Pass   \n",
       "3     Dave    48       88          9.6            17.6      Failed   \n",
       "4      Eve    92       90         18.4            18.0        Pass   \n",
       "\n",
       "  Passed_English Passed_Grade  \n",
       "0           Pass         Pass  \n",
       "1           Pass       Failed  \n",
       "2           Pass         Pass  \n",
       "3           Pass       Failed  \n",
       "4           Pass         Pass  "
      ]
     },
     "execution_count": 14,
     "metadata": {},
     "output_type": "execute_result"
    }
   ],
   "source": [
    "df['Passed_Grade'] = df.apply(lambda row: \"Pass\" if row[\"Math_scaled\"]>=10 and row[\"English_scaled\"]>=10 else \"Failed\", axis=1)\n",
    "df"
   ]
  },
  {
   "cell_type": "markdown",
   "id": "0c04afe4",
   "metadata": {
    "deletable": false,
    "editable": false,
    "run_control": {
     "frozen": true
    }
   },
   "source": [
    "Notice that we called the `.apply()` method directly on `df` and not a specific column. Also note that we passed the arguement **`axis = 1`** so that we tell the apply method to perform the transformation row-wise.\n",
    "\n",
    "As an exercise, do the following:\n",
    "\n",
    "* Load the data contained in the **`temperatures.csv`** file.\n",
    "\n",
    "* Convert the \"Date\" column to datetime format using the `pd.to_datetime` function.\n",
    "\n",
    "* Create a column named `\"Europe_Date\"` which reformats the `\"Date\"` column in the format **`\"day/month/year\"`**. For example the date `2021-02-01 11:10:55` should become `\"01/02/2021\"`. You can use the function `str(x)` to convert a number to a string and the `+` operator to concatenate strings together."
   ]
  },
  {
   "cell_type": "code",
   "execution_count": 15,
   "id": "6ca4bd47",
   "metadata": {
    "deletable": false,
    "editable": false
   },
   "outputs": [
    {
     "data": {
      "text/html": [
       "<div>\n",
       "<style scoped>\n",
       "    .dataframe tbody tr th:only-of-type {\n",
       "        vertical-align: middle;\n",
       "    }\n",
       "\n",
       "    .dataframe tbody tr th {\n",
       "        vertical-align: top;\n",
       "    }\n",
       "\n",
       "    .dataframe thead th {\n",
       "        text-align: right;\n",
       "    }\n",
       "</style>\n",
       "<table border=\"1\" class=\"dataframe\">\n",
       "  <thead>\n",
       "    <tr style=\"text-align: right;\">\n",
       "      <th></th>\n",
       "      <th>Date</th>\n",
       "      <th>City</th>\n",
       "      <th>Temperature</th>\n",
       "      <th>Europe_Date</th>\n",
       "    </tr>\n",
       "  </thead>\n",
       "  <tbody>\n",
       "    <tr>\n",
       "      <th>0</th>\n",
       "      <td>2021-01-01 10:01:14</td>\n",
       "      <td>Paris</td>\n",
       "      <td>5</td>\n",
       "      <td>1/1/2021</td>\n",
       "    </tr>\n",
       "    <tr>\n",
       "      <th>1</th>\n",
       "      <td>2021-02-01 11:10:55</td>\n",
       "      <td>New York</td>\n",
       "      <td>8</td>\n",
       "      <td>1/2/2021</td>\n",
       "    </tr>\n",
       "    <tr>\n",
       "      <th>2</th>\n",
       "      <td>2021-03-01 11:30:11</td>\n",
       "      <td>London</td>\n",
       "      <td>8</td>\n",
       "      <td>1/3/2021</td>\n",
       "    </tr>\n",
       "  </tbody>\n",
       "</table>\n",
       "</div>"
      ],
      "text/plain": [
       "                 Date      City  Temperature Europe_Date\n",
       "0 2021-01-01 10:01:14     Paris            5    1/1/2021\n",
       "1 2021-02-01 11:10:55  New York            8    1/2/2021\n",
       "2 2021-03-01 11:30:11    London            8    1/3/2021"
      ]
     },
     "execution_count": 15,
     "metadata": {},
     "output_type": "execute_result"
    }
   ],
   "source": [
    "df = pd.read_csv(\"temperatures.csv\")\n",
    "\n",
    "# Convert the 'Date' column to datetime format\n",
    "df['Date'] = pd.to_datetime(df['Date'])\n",
    "\n",
    "df['Europe_Date'] = df['Date'].apply(lambda x: str(x.day) + '/' + str(x.month) + '/' + str(x.year))\n",
    "df"
   ]
  },
  {
   "cell_type": "markdown",
   "id": "84ec9f31",
   "metadata": {
    "deletable": false,
    "editable": false,
    "run_control": {
     "frozen": true
    }
   },
   "source": [
    "### Missing values\n",
    "\n",
    "In this section, we will cover the basics of identifying missing values, understanding the different types of missing data, and filling missing values using various techniques. Missing values are a common issue in real world data and they will generate errors in data engineering, data analysis or data science code if we do not handle them properly.\n",
    "\n",
    "To begin, we need to identify missing values in a DataFrame. In pandas, missing values are commonly represented as NaN (Not a Number) or None. You can use the **`.isna()`** method to check for missing values in a DataFrame. "
   ]
  },
  {
   "cell_type": "code",
   "execution_count": 16,
   "id": "780ba8b8",
   "metadata": {
    "deletable": false,
    "editable": false
   },
   "outputs": [
    {
     "data": {
      "text/html": [
       "<div>\n",
       "<style scoped>\n",
       "    .dataframe tbody tr th:only-of-type {\n",
       "        vertical-align: middle;\n",
       "    }\n",
       "\n",
       "    .dataframe tbody tr th {\n",
       "        vertical-align: top;\n",
       "    }\n",
       "\n",
       "    .dataframe thead th {\n",
       "        text-align: right;\n",
       "    }\n",
       "</style>\n",
       "<table border=\"1\" class=\"dataframe\">\n",
       "  <thead>\n",
       "    <tr style=\"text-align: right;\">\n",
       "      <th></th>\n",
       "      <th>Name</th>\n",
       "      <th>Math</th>\n",
       "      <th>English</th>\n",
       "    </tr>\n",
       "  </thead>\n",
       "  <tbody>\n",
       "    <tr>\n",
       "      <th>0</th>\n",
       "      <td>Alice</td>\n",
       "      <td>NaN</td>\n",
       "      <td>78.0</td>\n",
       "    </tr>\n",
       "    <tr>\n",
       "      <th>1</th>\n",
       "      <td>Bob</td>\n",
       "      <td>40.0</td>\n",
       "      <td>82.0</td>\n",
       "    </tr>\n",
       "    <tr>\n",
       "      <th>2</th>\n",
       "      <td>Charlie</td>\n",
       "      <td>NaN</td>\n",
       "      <td>85.0</td>\n",
       "    </tr>\n",
       "    <tr>\n",
       "      <th>3</th>\n",
       "      <td>Dave</td>\n",
       "      <td>48.0</td>\n",
       "      <td>NaN</td>\n",
       "    </tr>\n",
       "    <tr>\n",
       "      <th>4</th>\n",
       "      <td>Eve</td>\n",
       "      <td>92.0</td>\n",
       "      <td>90.0</td>\n",
       "    </tr>\n",
       "  </tbody>\n",
       "</table>\n",
       "</div>"
      ],
      "text/plain": [
       "      Name  Math  English\n",
       "0    Alice   NaN     78.0\n",
       "1      Bob  40.0     82.0\n",
       "2  Charlie   NaN     85.0\n",
       "3     Dave  48.0      NaN\n",
       "4      Eve  92.0     90.0"
      ]
     },
     "execution_count": 16,
     "metadata": {},
     "output_type": "execute_result"
    }
   ],
   "source": [
    "df = pd.read_csv(\"missing_values_example.csv\")\n",
    "df"
   ]
  },
  {
   "cell_type": "code",
   "execution_count": 17,
   "id": "36c9cd87",
   "metadata": {
    "deletable": false,
    "editable": false
   },
   "outputs": [
    {
     "data": {
      "text/html": [
       "<div>\n",
       "<style scoped>\n",
       "    .dataframe tbody tr th:only-of-type {\n",
       "        vertical-align: middle;\n",
       "    }\n",
       "\n",
       "    .dataframe tbody tr th {\n",
       "        vertical-align: top;\n",
       "    }\n",
       "\n",
       "    .dataframe thead th {\n",
       "        text-align: right;\n",
       "    }\n",
       "</style>\n",
       "<table border=\"1\" class=\"dataframe\">\n",
       "  <thead>\n",
       "    <tr style=\"text-align: right;\">\n",
       "      <th></th>\n",
       "      <th>Name</th>\n",
       "      <th>Math</th>\n",
       "      <th>English</th>\n",
       "    </tr>\n",
       "  </thead>\n",
       "  <tbody>\n",
       "    <tr>\n",
       "      <th>0</th>\n",
       "      <td>False</td>\n",
       "      <td>True</td>\n",
       "      <td>False</td>\n",
       "    </tr>\n",
       "    <tr>\n",
       "      <th>1</th>\n",
       "      <td>False</td>\n",
       "      <td>False</td>\n",
       "      <td>False</td>\n",
       "    </tr>\n",
       "    <tr>\n",
       "      <th>2</th>\n",
       "      <td>False</td>\n",
       "      <td>True</td>\n",
       "      <td>False</td>\n",
       "    </tr>\n",
       "    <tr>\n",
       "      <th>3</th>\n",
       "      <td>False</td>\n",
       "      <td>False</td>\n",
       "      <td>True</td>\n",
       "    </tr>\n",
       "    <tr>\n",
       "      <th>4</th>\n",
       "      <td>False</td>\n",
       "      <td>False</td>\n",
       "      <td>False</td>\n",
       "    </tr>\n",
       "  </tbody>\n",
       "</table>\n",
       "</div>"
      ],
      "text/plain": [
       "    Name   Math  English\n",
       "0  False   True    False\n",
       "1  False  False    False\n",
       "2  False   True    False\n",
       "3  False  False     True\n",
       "4  False  False    False"
      ]
     },
     "execution_count": 17,
     "metadata": {},
     "output_type": "execute_result"
    }
   ],
   "source": [
    "df.isna()"
   ]
  },
  {
   "cell_type": "markdown",
   "id": "cb44deff",
   "metadata": {
    "deletable": false,
    "editable": false,
    "run_control": {
     "frozen": true
    }
   },
   "source": [
    "We can now count the number of missing values in a given column."
   ]
  },
  {
   "cell_type": "code",
   "execution_count": 18,
   "id": "b3b04876",
   "metadata": {
    "deletable": false,
    "editable": false
   },
   "outputs": [
    {
     "data": {
      "text/plain": [
       "0    1\n",
       "1    0\n",
       "2    1\n",
       "3    1\n",
       "4    0\n",
       "dtype: int64"
      ]
     },
     "execution_count": 18,
     "metadata": {},
     "output_type": "execute_result"
    }
   ],
   "source": [
    "# Count the number of missing values in the \"Math\" column\n",
    "df['Math'].isna().sum()\n",
    "\n",
    "# Show the number of missing values for each column\n",
    "df.isna().sum()\n",
    "\n",
    "# Show the number of missing values for each row\n",
    "df.isna().sum(axis = 1)"
   ]
  },
  {
   "cell_type": "markdown",
   "id": "0e34a75e",
   "metadata": {
    "deletable": false,
    "editable": false,
    "run_control": {
     "frozen": true
    }
   },
   "source": [
    "We can check the number of valid values in a Dataframe using the **`.info()`** method. It will show in the \"Non-Null Count\" column of its output."
   ]
  },
  {
   "cell_type": "code",
   "execution_count": 19,
   "id": "494d01b5",
   "metadata": {
    "deletable": false,
    "editable": false
   },
   "outputs": [
    {
     "name": "stdout",
     "output_type": "stream",
     "text": [
      "<class 'pandas.core.frame.DataFrame'>\n",
      "RangeIndex: 5 entries, 0 to 4\n",
      "Data columns (total 3 columns):\n",
      " #   Column   Non-Null Count  Dtype  \n",
      "---  ------   --------------  -----  \n",
      " 0   Name     5 non-null      object \n",
      " 1   Math     3 non-null      float64\n",
      " 2   English  4 non-null      float64\n",
      "dtypes: float64(2), object(1)\n",
      "memory usage: 248.0+ bytes\n"
     ]
    }
   ],
   "source": [
    "df.info()"
   ]
  },
  {
   "cell_type": "markdown",
   "id": "d3abb86a",
   "metadata": {
    "deletable": false,
    "editable": false,
    "run_control": {
     "frozen": true
    }
   },
   "source": [
    "To handle missing values, pandas provides several methods:\n",
    "\n",
    "* **Dropping missing values**: Use the **`.dropna()`** method to remove rows or columns with missing values. By default, it drops any row with at least one missing value."
   ]
  },
  {
   "cell_type": "code",
   "execution_count": 20,
   "id": "29e52c2f",
   "metadata": {
    "deletable": false,
    "editable": false
   },
   "outputs": [
    {
     "data": {
      "text/html": [
       "<div>\n",
       "<style scoped>\n",
       "    .dataframe tbody tr th:only-of-type {\n",
       "        vertical-align: middle;\n",
       "    }\n",
       "\n",
       "    .dataframe tbody tr th {\n",
       "        vertical-align: top;\n",
       "    }\n",
       "\n",
       "    .dataframe thead th {\n",
       "        text-align: right;\n",
       "    }\n",
       "</style>\n",
       "<table border=\"1\" class=\"dataframe\">\n",
       "  <thead>\n",
       "    <tr style=\"text-align: right;\">\n",
       "      <th></th>\n",
       "      <th>Name</th>\n",
       "      <th>Math</th>\n",
       "      <th>English</th>\n",
       "    </tr>\n",
       "  </thead>\n",
       "  <tbody>\n",
       "    <tr>\n",
       "      <th>1</th>\n",
       "      <td>Bob</td>\n",
       "      <td>40.0</td>\n",
       "      <td>82.0</td>\n",
       "    </tr>\n",
       "    <tr>\n",
       "      <th>4</th>\n",
       "      <td>Eve</td>\n",
       "      <td>92.0</td>\n",
       "      <td>90.0</td>\n",
       "    </tr>\n",
       "  </tbody>\n",
       "</table>\n",
       "</div>"
      ],
      "text/plain": [
       "  Name  Math  English\n",
       "1  Bob  40.0     82.0\n",
       "4  Eve  92.0     90.0"
      ]
     },
     "execution_count": 20,
     "metadata": {},
     "output_type": "execute_result"
    }
   ],
   "source": [
    "df.dropna()"
   ]
  },
  {
   "cell_type": "markdown",
   "id": "a7cd342c",
   "metadata": {
    "deletable": false,
    "editable": false,
    "run_control": {
     "frozen": true
    }
   },
   "source": [
    "As you can see, **a lot of data was deleted!** We need to be very careful with this approach when working with real world data as we may lose too much data for the dataset to be useful.\n",
    "\n",
    "* **Filling missing values**: Use the **`.fillna()`** method to replace missing values with a constant value."
   ]
  },
  {
   "cell_type": "code",
   "execution_count": 21,
   "id": "4766cf55",
   "metadata": {
    "deletable": false,
    "editable": false
   },
   "outputs": [
    {
     "data": {
      "text/html": [
       "<div>\n",
       "<style scoped>\n",
       "    .dataframe tbody tr th:only-of-type {\n",
       "        vertical-align: middle;\n",
       "    }\n",
       "\n",
       "    .dataframe tbody tr th {\n",
       "        vertical-align: top;\n",
       "    }\n",
       "\n",
       "    .dataframe thead th {\n",
       "        text-align: right;\n",
       "    }\n",
       "</style>\n",
       "<table border=\"1\" class=\"dataframe\">\n",
       "  <thead>\n",
       "    <tr style=\"text-align: right;\">\n",
       "      <th></th>\n",
       "      <th>Name</th>\n",
       "      <th>Math</th>\n",
       "      <th>English</th>\n",
       "    </tr>\n",
       "  </thead>\n",
       "  <tbody>\n",
       "    <tr>\n",
       "      <th>0</th>\n",
       "      <td>Alice</td>\n",
       "      <td>60.0</td>\n",
       "      <td>78.0</td>\n",
       "    </tr>\n",
       "    <tr>\n",
       "      <th>1</th>\n",
       "      <td>Bob</td>\n",
       "      <td>40.0</td>\n",
       "      <td>82.0</td>\n",
       "    </tr>\n",
       "    <tr>\n",
       "      <th>2</th>\n",
       "      <td>Charlie</td>\n",
       "      <td>60.0</td>\n",
       "      <td>85.0</td>\n",
       "    </tr>\n",
       "    <tr>\n",
       "      <th>3</th>\n",
       "      <td>Dave</td>\n",
       "      <td>48.0</td>\n",
       "      <td>NaN</td>\n",
       "    </tr>\n",
       "    <tr>\n",
       "      <th>4</th>\n",
       "      <td>Eve</td>\n",
       "      <td>92.0</td>\n",
       "      <td>90.0</td>\n",
       "    </tr>\n",
       "  </tbody>\n",
       "</table>\n",
       "</div>"
      ],
      "text/plain": [
       "      Name  Math  English\n",
       "0    Alice  60.0     78.0\n",
       "1      Bob  40.0     82.0\n",
       "2  Charlie  60.0     85.0\n",
       "3     Dave  48.0      NaN\n",
       "4      Eve  92.0     90.0"
      ]
     },
     "execution_count": 21,
     "metadata": {},
     "output_type": "execute_result"
    }
   ],
   "source": [
    "# Replace the missing values in the Math column with its mean\n",
    "df['Math'] = df['Math'].fillna(df['Math'].mean())\n",
    "df"
   ]
  },
  {
   "cell_type": "markdown",
   "id": "ba2cbd71",
   "metadata": {
    "deletable": false,
    "editable": false,
    "run_control": {
     "frozen": true
    }
   },
   "source": [
    "This technique is often used when **training Machine Learning models** as we assume that filling the missing values with the mean or median should not disturb the distributions the models will train on (This is **fundamentally incorrect** but in practice it is useful).\n",
    "\n",
    "As an exercise, do the following:\n",
    "\n",
    "* Load the data contained in the **`\"missing_values_exercise.csv\"`** file.\n",
    "* Fill the missing values in the `\"English\"` and `\"Math\"` columns using their means.\n",
    "* Fill the missing values in the `\"Grade\"` column using the **`.mode()[0]`** command (most frequent value)."
   ]
  },
  {
   "cell_type": "code",
   "execution_count": 22,
   "id": "9a4cba36",
   "metadata": {
    "deletable": false,
    "editable": false
   },
   "outputs": [
    {
     "data": {
      "text/html": [
       "<div>\n",
       "<style scoped>\n",
       "    .dataframe tbody tr th:only-of-type {\n",
       "        vertical-align: middle;\n",
       "    }\n",
       "\n",
       "    .dataframe tbody tr th {\n",
       "        vertical-align: top;\n",
       "    }\n",
       "\n",
       "    .dataframe thead th {\n",
       "        text-align: right;\n",
       "    }\n",
       "</style>\n",
       "<table border=\"1\" class=\"dataframe\">\n",
       "  <thead>\n",
       "    <tr style=\"text-align: right;\">\n",
       "      <th></th>\n",
       "      <th>Name</th>\n",
       "      <th>Math</th>\n",
       "      <th>English</th>\n",
       "      <th>Grade</th>\n",
       "    </tr>\n",
       "  </thead>\n",
       "  <tbody>\n",
       "    <tr>\n",
       "      <th>0</th>\n",
       "      <td>Alice</td>\n",
       "      <td>58.0</td>\n",
       "      <td>78.0</td>\n",
       "      <td>1.0</td>\n",
       "    </tr>\n",
       "    <tr>\n",
       "      <th>1</th>\n",
       "      <td>Bob</td>\n",
       "      <td>40.0</td>\n",
       "      <td>82.0</td>\n",
       "      <td>1.0</td>\n",
       "    </tr>\n",
       "    <tr>\n",
       "      <th>2</th>\n",
       "      <td>Charlie</td>\n",
       "      <td>58.0</td>\n",
       "      <td>85.0</td>\n",
       "      <td>2.0</td>\n",
       "    </tr>\n",
       "    <tr>\n",
       "      <th>3</th>\n",
       "      <td>Dave</td>\n",
       "      <td>48.0</td>\n",
       "      <td>73.6</td>\n",
       "      <td>1.0</td>\n",
       "    </tr>\n",
       "    <tr>\n",
       "      <th>4</th>\n",
       "      <td>Eve</td>\n",
       "      <td>92.0</td>\n",
       "      <td>90.0</td>\n",
       "      <td>1.0</td>\n",
       "    </tr>\n",
       "    <tr>\n",
       "      <th>5</th>\n",
       "      <td>Pierre</td>\n",
       "      <td>52.0</td>\n",
       "      <td>33.0</td>\n",
       "      <td>1.0</td>\n",
       "    </tr>\n",
       "    <tr>\n",
       "      <th>6</th>\n",
       "      <td>Saad</td>\n",
       "      <td>58.0</td>\n",
       "      <td>73.6</td>\n",
       "      <td>1.0</td>\n",
       "    </tr>\n",
       "  </tbody>\n",
       "</table>\n",
       "</div>"
      ],
      "text/plain": [
       "      Name  Math  English  Grade\n",
       "0    Alice  58.0     78.0    1.0\n",
       "1      Bob  40.0     82.0    1.0\n",
       "2  Charlie  58.0     85.0    2.0\n",
       "3     Dave  48.0     73.6    1.0\n",
       "4      Eve  92.0     90.0    1.0\n",
       "5   Pierre  52.0     33.0    1.0\n",
       "6     Saad  58.0     73.6    1.0"
      ]
     },
     "execution_count": 22,
     "metadata": {},
     "output_type": "execute_result"
    }
   ],
   "source": [
    "df = pd.read_csv(\"missing_values_exercise.csv\")\n",
    "\n",
    "# Fill the missing values in the \"English\" and \"Math\" columns using their means.\n",
    "df['Math'] = df['Math'].fillna(df['Math'].mean())\n",
    "df['English'] = df['English'].fillna(df['English'].mean())\n",
    "\n",
    "# Fill the missing values in the \"Grade\" column with its most frequent value\n",
    "df['Grade'] = df['Grade'].fillna(df['Grade'].mode()[0])\n",
    "\n",
    "df"
   ]
  },
  {
   "cell_type": "markdown",
   "id": "a814d811",
   "metadata": {
    "deletable": false,
    "editable": false,
    "run_control": {
     "frozen": true
    }
   },
   "source": [
    "# Part 3: Data Manipulation\n",
    "\n",
    "### Filtering rows\n",
    "\n",
    "Filtering rows in pandas is a fundamental operation in data manipulation. Pandas provides several methods to filter rows based on specific conditions, allowing us to extract the subset of data that meets our criteria. One commonly used method is using **boolean indexing** with the **`.loc[]`** accessor. \n",
    "\n",
    "```py\n",
    "df = pd.read_csv(\"student_grades.csv\")\n",
    "\n",
    "# Select students whose Math grade is greater than 50.\n",
    "df.loc[df['Math'] > 50]\n",
    "\n",
    "# Select students whose Math grade is greater than \n",
    "# 50 and their English grade is greater than 80.\n",
    "# We have to use the binary AND operator \"&\"\n",
    "df.loc[(df['Math'] > 50) & (df['English'] > 80)]\n",
    "```"
   ]
  },
  {
   "cell_type": "code",
   "execution_count": 23,
   "id": "8f3540b6",
   "metadata": {
    "deletable": false,
    "editable": false
   },
   "outputs": [
    {
     "data": {
      "text/html": [
       "<div>\n",
       "<style scoped>\n",
       "    .dataframe tbody tr th:only-of-type {\n",
       "        vertical-align: middle;\n",
       "    }\n",
       "\n",
       "    .dataframe tbody tr th {\n",
       "        vertical-align: top;\n",
       "    }\n",
       "\n",
       "    .dataframe thead th {\n",
       "        text-align: right;\n",
       "    }\n",
       "</style>\n",
       "<table border=\"1\" class=\"dataframe\">\n",
       "  <thead>\n",
       "    <tr style=\"text-align: right;\">\n",
       "      <th></th>\n",
       "      <th>Name</th>\n",
       "      <th>Math</th>\n",
       "      <th>English</th>\n",
       "    </tr>\n",
       "  </thead>\n",
       "  <tbody>\n",
       "    <tr>\n",
       "      <th>0</th>\n",
       "      <td>Alice</td>\n",
       "      <td>55</td>\n",
       "      <td>78</td>\n",
       "    </tr>\n",
       "    <tr>\n",
       "      <th>2</th>\n",
       "      <td>Charlie</td>\n",
       "      <td>76</td>\n",
       "      <td>85</td>\n",
       "    </tr>\n",
       "    <tr>\n",
       "      <th>4</th>\n",
       "      <td>Eve</td>\n",
       "      <td>92</td>\n",
       "      <td>90</td>\n",
       "    </tr>\n",
       "  </tbody>\n",
       "</table>\n",
       "</div>"
      ],
      "text/plain": [
       "      Name  Math  English\n",
       "0    Alice    55       78\n",
       "2  Charlie    76       85\n",
       "4      Eve    92       90"
      ]
     },
     "execution_count": 23,
     "metadata": {},
     "output_type": "execute_result"
    }
   ],
   "source": [
    "df = pd.read_csv(\"student_grades.csv\")\n",
    "\n",
    "# Select students whose Math grade is greater than 50.\n",
    "df.loc[df['Math'] > 50]"
   ]
  },
  {
   "cell_type": "code",
   "execution_count": 24,
   "id": "51ddb1da",
   "metadata": {
    "deletable": false,
    "editable": false
   },
   "outputs": [
    {
     "data": {
      "text/html": [
       "<div>\n",
       "<style scoped>\n",
       "    .dataframe tbody tr th:only-of-type {\n",
       "        vertical-align: middle;\n",
       "    }\n",
       "\n",
       "    .dataframe tbody tr th {\n",
       "        vertical-align: top;\n",
       "    }\n",
       "\n",
       "    .dataframe thead th {\n",
       "        text-align: right;\n",
       "    }\n",
       "</style>\n",
       "<table border=\"1\" class=\"dataframe\">\n",
       "  <thead>\n",
       "    <tr style=\"text-align: right;\">\n",
       "      <th></th>\n",
       "      <th>Name</th>\n",
       "      <th>Math</th>\n",
       "      <th>English</th>\n",
       "    </tr>\n",
       "  </thead>\n",
       "  <tbody>\n",
       "    <tr>\n",
       "      <th>2</th>\n",
       "      <td>Charlie</td>\n",
       "      <td>76</td>\n",
       "      <td>85</td>\n",
       "    </tr>\n",
       "    <tr>\n",
       "      <th>4</th>\n",
       "      <td>Eve</td>\n",
       "      <td>92</td>\n",
       "      <td>90</td>\n",
       "    </tr>\n",
       "  </tbody>\n",
       "</table>\n",
       "</div>"
      ],
      "text/plain": [
       "      Name  Math  English\n",
       "2  Charlie    76       85\n",
       "4      Eve    92       90"
      ]
     },
     "execution_count": 24,
     "metadata": {},
     "output_type": "execute_result"
    }
   ],
   "source": [
    "# Select students whose Math grade is greater than \n",
    "# 50 and their English grade is greater than 80.\n",
    "# We have to use the binary AND operator \"&\"\n",
    "df.loc[(df['Math'] > 50) & (df['English'] > 80)]"
   ]
  },
  {
   "cell_type": "code",
   "execution_count": 25,
   "id": "517d0c67",
   "metadata": {
    "deletable": false,
    "editable": false
   },
   "outputs": [
    {
     "data": {
      "text/html": [
       "<div>\n",
       "<style scoped>\n",
       "    .dataframe tbody tr th:only-of-type {\n",
       "        vertical-align: middle;\n",
       "    }\n",
       "\n",
       "    .dataframe tbody tr th {\n",
       "        vertical-align: top;\n",
       "    }\n",
       "\n",
       "    .dataframe thead th {\n",
       "        text-align: right;\n",
       "    }\n",
       "</style>\n",
       "<table border=\"1\" class=\"dataframe\">\n",
       "  <thead>\n",
       "    <tr style=\"text-align: right;\">\n",
       "      <th></th>\n",
       "      <th>Name</th>\n",
       "      <th>Math</th>\n",
       "      <th>English</th>\n",
       "    </tr>\n",
       "  </thead>\n",
       "  <tbody>\n",
       "    <tr>\n",
       "      <th>0</th>\n",
       "      <td>Alice</td>\n",
       "      <td>55</td>\n",
       "      <td>78</td>\n",
       "    </tr>\n",
       "  </tbody>\n",
       "</table>\n",
       "</div>"
      ],
      "text/plain": [
       "    Name  Math  English\n",
       "0  Alice    55       78"
      ]
     },
     "execution_count": 25,
     "metadata": {},
     "output_type": "execute_result"
    }
   ],
   "source": [
    "# Fancier example:\n",
    "# Select students whose name starts with the letter \"A\"\n",
    "df.loc[df['Name'].apply(lambda x: x[0] == \"A\")]"
   ]
  },
  {
   "cell_type": "markdown",
   "id": "684f5efc",
   "metadata": {
    "deletable": false,
    "editable": false,
    "run_control": {
     "frozen": true
    }
   },
   "source": [
    "As an exercise, do the following:\n",
    "\n",
    "* Load the data contained in the **`\"sales_data.csv\"`** file.\n",
    "* Extract the year from the `\"sale_date\"` column and store it in a new column **`\"sale_year\"`**.\n",
    "* Calculate the total amount of a sale by **multiplying the `\"quantity\"` and `\"unit_price\"` columns with each other** and storing the result in a **`\"total_sale_amount\"`** column.\n",
    "* Filter the rows to only include sales from the **most recent year**.\n",
    "* Select sales records where `total_sale_amount` is greater than 300 for that year."
   ]
  },
  {
   "cell_type": "code",
   "execution_count": 26,
   "id": "7da22197",
   "metadata": {
    "deletable": false,
    "editable": false
   },
   "outputs": [
    {
     "data": {
      "text/html": [
       "<div>\n",
       "<style scoped>\n",
       "    .dataframe tbody tr th:only-of-type {\n",
       "        vertical-align: middle;\n",
       "    }\n",
       "\n",
       "    .dataframe tbody tr th {\n",
       "        vertical-align: top;\n",
       "    }\n",
       "\n",
       "    .dataframe thead th {\n",
       "        text-align: right;\n",
       "    }\n",
       "</style>\n",
       "<table border=\"1\" class=\"dataframe\">\n",
       "  <thead>\n",
       "    <tr style=\"text-align: right;\">\n",
       "      <th></th>\n",
       "      <th>sale_id</th>\n",
       "      <th>product_name</th>\n",
       "      <th>category</th>\n",
       "      <th>quantity</th>\n",
       "      <th>unit_price</th>\n",
       "      <th>sale_date</th>\n",
       "      <th>sale_year</th>\n",
       "      <th>total_sale_amount</th>\n",
       "    </tr>\n",
       "  </thead>\n",
       "  <tbody>\n",
       "    <tr>\n",
       "      <th>371</th>\n",
       "      <td>82885211-0055-454b-bff9-cfc3eaba3320</td>\n",
       "      <td>Headphones</td>\n",
       "      <td>Electronics</td>\n",
       "      <td>9</td>\n",
       "      <td>48</td>\n",
       "      <td>2024-01-07</td>\n",
       "      <td>2024</td>\n",
       "      <td>432</td>\n",
       "    </tr>\n",
       "    <tr>\n",
       "      <th>423</th>\n",
       "      <td>d162b982-e1f2-442c-9018-fc66a376b30c</td>\n",
       "      <td>Camera</td>\n",
       "      <td>Electronics</td>\n",
       "      <td>7</td>\n",
       "      <td>57</td>\n",
       "      <td>2024-01-04</td>\n",
       "      <td>2024</td>\n",
       "      <td>399</td>\n",
       "    </tr>\n",
       "    <tr>\n",
       "      <th>706</th>\n",
       "      <td>18fbf216-faa2-4007-89b9-aa4d75108f8b</td>\n",
       "      <td>Camera</td>\n",
       "      <td>Electronics</td>\n",
       "      <td>15</td>\n",
       "      <td>92</td>\n",
       "      <td>2024-01-08</td>\n",
       "      <td>2024</td>\n",
       "      <td>1380</td>\n",
       "    </tr>\n",
       "    <tr>\n",
       "      <th>735</th>\n",
       "      <td>2b819908-4536-48ff-b555-debaee318237</td>\n",
       "      <td>T-Shirt</td>\n",
       "      <td>Clothing</td>\n",
       "      <td>15</td>\n",
       "      <td>29</td>\n",
       "      <td>2024-01-02</td>\n",
       "      <td>2024</td>\n",
       "      <td>435</td>\n",
       "    </tr>\n",
       "    <tr>\n",
       "      <th>777</th>\n",
       "      <td>f93a4d6f-7776-4279-80c3-9430c70d15cb</td>\n",
       "      <td>Video Game</td>\n",
       "      <td>Toys &amp; Games</td>\n",
       "      <td>16</td>\n",
       "      <td>22</td>\n",
       "      <td>2024-01-08</td>\n",
       "      <td>2024</td>\n",
       "      <td>352</td>\n",
       "    </tr>\n",
       "    <tr>\n",
       "      <th>909</th>\n",
       "      <td>9d327705-3053-4b44-8965-74b3bf309709</td>\n",
       "      <td>Doll</td>\n",
       "      <td>Toys &amp; Games</td>\n",
       "      <td>8</td>\n",
       "      <td>60</td>\n",
       "      <td>2024-01-01</td>\n",
       "      <td>2024</td>\n",
       "      <td>480</td>\n",
       "    </tr>\n",
       "  </tbody>\n",
       "</table>\n",
       "</div>"
      ],
      "text/plain": [
       "                                  sale_id product_name      category  \\\n",
       "371  82885211-0055-454b-bff9-cfc3eaba3320   Headphones   Electronics   \n",
       "423  d162b982-e1f2-442c-9018-fc66a376b30c       Camera   Electronics   \n",
       "706  18fbf216-faa2-4007-89b9-aa4d75108f8b       Camera   Electronics   \n",
       "735  2b819908-4536-48ff-b555-debaee318237      T-Shirt      Clothing   \n",
       "777  f93a4d6f-7776-4279-80c3-9430c70d15cb   Video Game  Toys & Games   \n",
       "909  9d327705-3053-4b44-8965-74b3bf309709         Doll  Toys & Games   \n",
       "\n",
       "     quantity  unit_price  sale_date  sale_year  total_sale_amount  \n",
       "371         9          48 2024-01-07       2024                432  \n",
       "423         7          57 2024-01-04       2024                399  \n",
       "706        15          92 2024-01-08       2024               1380  \n",
       "735        15          29 2024-01-02       2024                435  \n",
       "777        16          22 2024-01-08       2024                352  \n",
       "909         8          60 2024-01-01       2024                480  "
      ]
     },
     "execution_count": 26,
     "metadata": {},
     "output_type": "execute_result"
    }
   ],
   "source": [
    "df = pd.read_csv(\"sales_data.csv\")\n",
    "\n",
    "# Extract the year from the \"sale_date\" column and store it in a new column \"sale_year\".\n",
    "df['sale_date'] = pd.to_datetime(df[\"sale_date\"])\n",
    "df[\"sale_year\"] = df[\"sale_date\"].dt.year\n",
    "\n",
    "#Calculate the total amount of a sale\n",
    "df['total_sale_amount'] = df['quantity'] * df['unit_price']\n",
    "\n",
    "# Filter the rows to only include sales from the most recent year\n",
    "df_filtered = df.loc[df[\"sale_year\"] == df[\"sale_year\"].max()]\n",
    "\n",
    "# Select sales records where total_sale_amount is greater than 300\n",
    "df_filtered.loc[df_filtered['total_sale_amount'] > 300]"
   ]
  },
  {
   "cell_type": "markdown",
   "id": "646d508c",
   "metadata": {
    "deletable": false,
    "editable": false,
    "run_control": {
     "frozen": true
    }
   },
   "source": [
    "### Group By operations\n",
    "\n",
    "\"Group By\" operations are a powerful tool that allows you to group data based on one or more columns and perform various operations on those groups.\n",
    "\n",
    "The **`.groupby()`** method splits the DataFrame into groups based on specified columns. Once we have grouped the data, we can apply various aggregation functions such as `.sum()`, `.mean()`, `.count()`, `.min()`, `.max()` and more to summarize the grouped data. "
   ]
  },
  {
   "cell_type": "code",
   "execution_count": 27,
   "id": "e2620214",
   "metadata": {
    "deletable": false,
    "editable": false
   },
   "outputs": [
    {
     "data": {
      "text/html": [
       "<div>\n",
       "<style scoped>\n",
       "    .dataframe tbody tr th:only-of-type {\n",
       "        vertical-align: middle;\n",
       "    }\n",
       "\n",
       "    .dataframe tbody tr th {\n",
       "        vertical-align: top;\n",
       "    }\n",
       "\n",
       "    .dataframe thead th {\n",
       "        text-align: right;\n",
       "    }\n",
       "</style>\n",
       "<table border=\"1\" class=\"dataframe\">\n",
       "  <thead>\n",
       "    <tr style=\"text-align: right;\">\n",
       "      <th></th>\n",
       "      <th>Name</th>\n",
       "      <th>City</th>\n",
       "      <th>Age</th>\n",
       "      <th>Salary</th>\n",
       "    </tr>\n",
       "  </thead>\n",
       "  <tbody>\n",
       "    <tr>\n",
       "      <th>0</th>\n",
       "      <td>Alice</td>\n",
       "      <td>New York</td>\n",
       "      <td>25</td>\n",
       "      <td>50000</td>\n",
       "    </tr>\n",
       "    <tr>\n",
       "      <th>1</th>\n",
       "      <td>Bob</td>\n",
       "      <td>London</td>\n",
       "      <td>32</td>\n",
       "      <td>60000</td>\n",
       "    </tr>\n",
       "    <tr>\n",
       "      <th>2</th>\n",
       "      <td>Charlie</td>\n",
       "      <td>New York</td>\n",
       "      <td>28</td>\n",
       "      <td>55000</td>\n",
       "    </tr>\n",
       "    <tr>\n",
       "      <th>3</th>\n",
       "      <td>David</td>\n",
       "      <td>London</td>\n",
       "      <td>32</td>\n",
       "      <td>65000</td>\n",
       "    </tr>\n",
       "    <tr>\n",
       "      <th>4</th>\n",
       "      <td>Eve</td>\n",
       "      <td>London</td>\n",
       "      <td>25</td>\n",
       "      <td>60000</td>\n",
       "    </tr>\n",
       "  </tbody>\n",
       "</table>\n",
       "</div>"
      ],
      "text/plain": [
       "      Name      City  Age  Salary\n",
       "0    Alice  New York   25   50000\n",
       "1      Bob    London   32   60000\n",
       "2  Charlie  New York   28   55000\n",
       "3    David    London   32   65000\n",
       "4      Eve    London   25   60000"
      ]
     },
     "execution_count": 27,
     "metadata": {},
     "output_type": "execute_result"
    }
   ],
   "source": [
    "df = pd.read_csv(\"salaries.csv\")\n",
    "df"
   ]
  },
  {
   "cell_type": "code",
   "execution_count": 28,
   "id": "8f336450",
   "metadata": {
    "deletable": false,
    "editable": false
   },
   "outputs": [
    {
     "data": {
      "text/plain": [
       "City\n",
       "London      61666.666667\n",
       "New York    52500.000000\n",
       "Name: Salary, dtype: float64"
      ]
     },
     "execution_count": 28,
     "metadata": {},
     "output_type": "execute_result"
    }
   ],
   "source": [
    "# Compute the average Salary by City\n",
    "df.groupby(\"City\")['Salary'].mean()"
   ]
  },
  {
   "cell_type": "code",
   "execution_count": 29,
   "id": "7011e7e2",
   "metadata": {
    "deletable": false,
    "editable": false
   },
   "outputs": [
    {
     "data": {
      "text/plain": [
       "City\n",
       "London      29.666667\n",
       "New York    26.500000\n",
       "Name: Age, dtype: float64"
      ]
     },
     "execution_count": 29,
     "metadata": {},
     "output_type": "execute_result"
    }
   ],
   "source": [
    "# Get the average Age by City\n",
    "df.groupby(\"City\")['Age'].mean()"
   ]
  },
  {
   "cell_type": "code",
   "execution_count": 30,
   "id": "43ce9924",
   "metadata": {
    "deletable": false,
    "editable": false,
    "scrolled": true
   },
   "outputs": [
    {
     "data": {
      "text/plain": [
       "City\n",
       "London      65000\n",
       "New York    55000\n",
       "Name: Salary, dtype: int64"
      ]
     },
     "execution_count": 30,
     "metadata": {},
     "output_type": "execute_result"
    }
   ],
   "source": [
    "# Get the maximum salary by City\n",
    "df.groupby(\"City\")['Salary'].max()"
   ]
  },
  {
   "cell_type": "code",
   "execution_count": 31,
   "id": "74e14fb1",
   "metadata": {
    "deletable": false,
    "editable": false
   },
   "outputs": [
    {
     "data": {
      "text/plain": [
       "City      Age\n",
       "London    25     60000.0\n",
       "          32     62500.0\n",
       "New York  25     50000.0\n",
       "          28     55000.0\n",
       "Name: Salary, dtype: float64"
      ]
     },
     "execution_count": 31,
     "metadata": {},
     "output_type": "execute_result"
    }
   ],
   "source": [
    "# Get the average salary by City and Age\n",
    "df.groupby([\"City\", \"Age\"])['Salary'].mean()"
   ]
  },
  {
   "cell_type": "markdown",
   "id": "9bbcf9ca",
   "metadata": {
    "deletable": false,
    "editable": false,
    "run_control": {
     "frozen": true
    }
   },
   "source": [
    "Besides aggregation, we can also apply **transformations** to grouped data. Transformations allow us to perform operations on each group and return a new DataFrame with the same shape as the original. For example, we can use the **`.apply()`** method to apply a custom function to each group. Here's an example:"
   ]
  },
  {
   "cell_type": "code",
   "execution_count": 32,
   "id": "80f10449",
   "metadata": {
    "deletable": false,
    "editable": false
   },
   "outputs": [
    {
     "data": {
      "text/html": [
       "<div>\n",
       "<style scoped>\n",
       "    .dataframe tbody tr th:only-of-type {\n",
       "        vertical-align: middle;\n",
       "    }\n",
       "\n",
       "    .dataframe tbody tr th {\n",
       "        vertical-align: top;\n",
       "    }\n",
       "\n",
       "    .dataframe thead th {\n",
       "        text-align: right;\n",
       "    }\n",
       "</style>\n",
       "<table border=\"1\" class=\"dataframe\">\n",
       "  <thead>\n",
       "    <tr style=\"text-align: right;\">\n",
       "      <th></th>\n",
       "      <th>Name</th>\n",
       "      <th>City</th>\n",
       "      <th>Age</th>\n",
       "      <th>Salary</th>\n",
       "      <th>SalaryDifference</th>\n",
       "    </tr>\n",
       "  </thead>\n",
       "  <tbody>\n",
       "    <tr>\n",
       "      <th>0</th>\n",
       "      <td>Alice</td>\n",
       "      <td>New York</td>\n",
       "      <td>25</td>\n",
       "      <td>50000</td>\n",
       "      <td>-2500.000000</td>\n",
       "    </tr>\n",
       "    <tr>\n",
       "      <th>1</th>\n",
       "      <td>Bob</td>\n",
       "      <td>London</td>\n",
       "      <td>32</td>\n",
       "      <td>60000</td>\n",
       "      <td>-1666.666667</td>\n",
       "    </tr>\n",
       "    <tr>\n",
       "      <th>2</th>\n",
       "      <td>Charlie</td>\n",
       "      <td>New York</td>\n",
       "      <td>28</td>\n",
       "      <td>55000</td>\n",
       "      <td>2500.000000</td>\n",
       "    </tr>\n",
       "    <tr>\n",
       "      <th>3</th>\n",
       "      <td>David</td>\n",
       "      <td>London</td>\n",
       "      <td>32</td>\n",
       "      <td>65000</td>\n",
       "      <td>3333.333333</td>\n",
       "    </tr>\n",
       "    <tr>\n",
       "      <th>4</th>\n",
       "      <td>Eve</td>\n",
       "      <td>London</td>\n",
       "      <td>25</td>\n",
       "      <td>60000</td>\n",
       "      <td>-1666.666667</td>\n",
       "    </tr>\n",
       "  </tbody>\n",
       "</table>\n",
       "</div>"
      ],
      "text/plain": [
       "      Name      City  Age  Salary  SalaryDifference\n",
       "0    Alice  New York   25   50000      -2500.000000\n",
       "1      Bob    London   32   60000      -1666.666667\n",
       "2  Charlie  New York   28   55000       2500.000000\n",
       "3    David    London   32   65000       3333.333333\n",
       "4      Eve    London   25   60000      -1666.666667"
      ]
     },
     "execution_count": 32,
     "metadata": {},
     "output_type": "execute_result"
    }
   ],
   "source": [
    "# Define a custom function to calculate the salary difference from the average\n",
    "def salary_difference(group):\n",
    "    group['SalaryDifference'] = group['Salary'] - group['Salary'].mean()\n",
    "    return group\n",
    "\n",
    "df.groupby(\"City\").apply(salary_difference)"
   ]
  },
  {
   "cell_type": "markdown",
   "id": "9f8614b6",
   "metadata": {
    "deletable": false,
    "editable": false,
    "run_control": {
     "frozen": true
    }
   },
   "source": [
    "As an exercise, do the following:\n",
    "\n",
    "* Load the data in the **`\"student_grade_roworient.csv\"`** file.\n",
    "\n",
    "* Compute the average score for each student using a group by operation.\n",
    "\n",
    "* Compute the average score for each subject using a group by operation."
   ]
  },
  {
   "cell_type": "code",
   "execution_count": 33,
   "id": "54854d20",
   "metadata": {
    "deletable": false,
    "editable": false
   },
   "outputs": [
    {
     "data": {
      "text/plain": [
       "Subject\n",
       "Math       76.0\n",
       "Science    87.6\n",
       "Name: Score, dtype: float64"
      ]
     },
     "execution_count": 33,
     "metadata": {},
     "output_type": "execute_result"
    }
   ],
   "source": [
    "df = pd.read_csv(\"student_grade_roworient.csv\")\n",
    "\n",
    "# Compute the average score for each student\n",
    "df.groupby(\"Name\")['Score'].mean()\n",
    "\n",
    "# Compute the average score for each subject\n",
    "df.groupby(\"Subject\")['Score'].mean()"
   ]
  },
  {
   "cell_type": "markdown",
   "id": "20ff5c81",
   "metadata": {
    "deletable": false,
    "editable": false,
    "run_control": {
     "frozen": true
    }
   },
   "source": [
    "### Merging Data\n",
    "\n",
    "Merging allows you to **combine multiple DataFrames based on common columns or indices**. Pandas provides the .merge() function to perform various types of merges, such as inner, outer, left, and right merges. "
   ]
  },
  {
   "cell_type": "code",
   "execution_count": 34,
   "id": "0bffc1e0",
   "metadata": {
    "deletable": false,
    "editable": false
   },
   "outputs": [
    {
     "data": {
      "text/html": [
       "<div>\n",
       "<style scoped>\n",
       "    .dataframe tbody tr th:only-of-type {\n",
       "        vertical-align: middle;\n",
       "    }\n",
       "\n",
       "    .dataframe tbody tr th {\n",
       "        vertical-align: top;\n",
       "    }\n",
       "\n",
       "    .dataframe thead th {\n",
       "        text-align: right;\n",
       "    }\n",
       "</style>\n",
       "<table border=\"1\" class=\"dataframe\">\n",
       "  <thead>\n",
       "    <tr style=\"text-align: right;\">\n",
       "      <th></th>\n",
       "      <th>Name</th>\n",
       "      <th>Age</th>\n",
       "    </tr>\n",
       "  </thead>\n",
       "  <tbody>\n",
       "    <tr>\n",
       "      <th>0</th>\n",
       "      <td>Alice</td>\n",
       "      <td>25</td>\n",
       "    </tr>\n",
       "    <tr>\n",
       "      <th>1</th>\n",
       "      <td>Bob</td>\n",
       "      <td>32</td>\n",
       "    </tr>\n",
       "    <tr>\n",
       "      <th>2</th>\n",
       "      <td>Charlie</td>\n",
       "      <td>22</td>\n",
       "    </tr>\n",
       "    <tr>\n",
       "      <th>3</th>\n",
       "      <td>David</td>\n",
       "      <td>24</td>\n",
       "    </tr>\n",
       "  </tbody>\n",
       "</table>\n",
       "</div>"
      ],
      "text/plain": [
       "      Name  Age\n",
       "0    Alice   25\n",
       "1      Bob   32\n",
       "2  Charlie   22\n",
       "3    David   24"
      ]
     },
     "metadata": {},
     "output_type": "display_data"
    },
    {
     "data": {
      "text/html": [
       "<div>\n",
       "<style scoped>\n",
       "    .dataframe tbody tr th:only-of-type {\n",
       "        vertical-align: middle;\n",
       "    }\n",
       "\n",
       "    .dataframe tbody tr th {\n",
       "        vertical-align: top;\n",
       "    }\n",
       "\n",
       "    .dataframe thead th {\n",
       "        text-align: right;\n",
       "    }\n",
       "</style>\n",
       "<table border=\"1\" class=\"dataframe\">\n",
       "  <thead>\n",
       "    <tr style=\"text-align: right;\">\n",
       "      <th></th>\n",
       "      <th>Name</th>\n",
       "      <th>City</th>\n",
       "    </tr>\n",
       "  </thead>\n",
       "  <tbody>\n",
       "    <tr>\n",
       "      <th>0</th>\n",
       "      <td>Alice</td>\n",
       "      <td>New York</td>\n",
       "    </tr>\n",
       "    <tr>\n",
       "      <th>1</th>\n",
       "      <td>Bob</td>\n",
       "      <td>London</td>\n",
       "    </tr>\n",
       "    <tr>\n",
       "      <th>2</th>\n",
       "      <td>Charlie</td>\n",
       "      <td>Paris</td>\n",
       "    </tr>\n",
       "    <tr>\n",
       "      <th>3</th>\n",
       "      <td>Eve</td>\n",
       "      <td>Madrid</td>\n",
       "    </tr>\n",
       "  </tbody>\n",
       "</table>\n",
       "</div>"
      ],
      "text/plain": [
       "      Name      City\n",
       "0    Alice  New York\n",
       "1      Bob    London\n",
       "2  Charlie     Paris\n",
       "3      Eve    Madrid"
      ]
     },
     "metadata": {},
     "output_type": "display_data"
    }
   ],
   "source": [
    "from IPython.display import display\n",
    "\n",
    "ages = pd.read_csv(\"ages.csv\")\n",
    "cities = pd.read_csv(\"cities.csv\")\n",
    "\n",
    "display(ages)\n",
    "\n",
    "display(cities)"
   ]
  },
  {
   "cell_type": "markdown",
   "id": "0ddbd61e",
   "metadata": {
    "deletable": false,
    "editable": false,
    "run_control": {
     "frozen": true
    }
   },
   "source": [
    "An **inner merge**, or inner join, returns only the matching rows from both DataFrames. It keeps only the records that have matching values in the specified columns or indices."
   ]
  },
  {
   "cell_type": "code",
   "execution_count": 35,
   "id": "2dd3ddf5",
   "metadata": {
    "deletable": false,
    "editable": false
   },
   "outputs": [
    {
     "data": {
      "text/html": [
       "<div>\n",
       "<style scoped>\n",
       "    .dataframe tbody tr th:only-of-type {\n",
       "        vertical-align: middle;\n",
       "    }\n",
       "\n",
       "    .dataframe tbody tr th {\n",
       "        vertical-align: top;\n",
       "    }\n",
       "\n",
       "    .dataframe thead th {\n",
       "        text-align: right;\n",
       "    }\n",
       "</style>\n",
       "<table border=\"1\" class=\"dataframe\">\n",
       "  <thead>\n",
       "    <tr style=\"text-align: right;\">\n",
       "      <th></th>\n",
       "      <th>Name</th>\n",
       "      <th>Age</th>\n",
       "      <th>City</th>\n",
       "    </tr>\n",
       "  </thead>\n",
       "  <tbody>\n",
       "    <tr>\n",
       "      <th>0</th>\n",
       "      <td>Alice</td>\n",
       "      <td>25</td>\n",
       "      <td>New York</td>\n",
       "    </tr>\n",
       "    <tr>\n",
       "      <th>1</th>\n",
       "      <td>Bob</td>\n",
       "      <td>32</td>\n",
       "      <td>London</td>\n",
       "    </tr>\n",
       "    <tr>\n",
       "      <th>2</th>\n",
       "      <td>Charlie</td>\n",
       "      <td>22</td>\n",
       "      <td>Paris</td>\n",
       "    </tr>\n",
       "  </tbody>\n",
       "</table>\n",
       "</div>"
      ],
      "text/plain": [
       "      Name  Age      City\n",
       "0    Alice   25  New York\n",
       "1      Bob   32    London\n",
       "2  Charlie   22     Paris"
      ]
     },
     "execution_count": 35,
     "metadata": {},
     "output_type": "execute_result"
    }
   ],
   "source": [
    "# Merge the DataFrames based on the 'Name' column\n",
    "merged_df = pd.merge(ages, cities, on='Name', how = \"inner\")\n",
    "merged_df"
   ]
  },
  {
   "cell_type": "markdown",
   "id": "620a1ede",
   "metadata": {
    "deletable": false,
    "editable": false,
    "run_control": {
     "frozen": true
    }
   },
   "source": [
    "An **outer merge**, or outer join, returns all the rows from both DataFrames. It combines the records from both DataFrames, filling in missing values with NaN (Not a Number) where no match is found."
   ]
  },
  {
   "cell_type": "code",
   "execution_count": 36,
   "id": "c2b9296b",
   "metadata": {
    "deletable": false,
    "editable": false
   },
   "outputs": [
    {
     "data": {
      "text/html": [
       "<div>\n",
       "<style scoped>\n",
       "    .dataframe tbody tr th:only-of-type {\n",
       "        vertical-align: middle;\n",
       "    }\n",
       "\n",
       "    .dataframe tbody tr th {\n",
       "        vertical-align: top;\n",
       "    }\n",
       "\n",
       "    .dataframe thead th {\n",
       "        text-align: right;\n",
       "    }\n",
       "</style>\n",
       "<table border=\"1\" class=\"dataframe\">\n",
       "  <thead>\n",
       "    <tr style=\"text-align: right;\">\n",
       "      <th></th>\n",
       "      <th>Name</th>\n",
       "      <th>Age</th>\n",
       "      <th>City</th>\n",
       "    </tr>\n",
       "  </thead>\n",
       "  <tbody>\n",
       "    <tr>\n",
       "      <th>0</th>\n",
       "      <td>Alice</td>\n",
       "      <td>25.0</td>\n",
       "      <td>New York</td>\n",
       "    </tr>\n",
       "    <tr>\n",
       "      <th>1</th>\n",
       "      <td>Bob</td>\n",
       "      <td>32.0</td>\n",
       "      <td>London</td>\n",
       "    </tr>\n",
       "    <tr>\n",
       "      <th>2</th>\n",
       "      <td>Charlie</td>\n",
       "      <td>22.0</td>\n",
       "      <td>Paris</td>\n",
       "    </tr>\n",
       "    <tr>\n",
       "      <th>3</th>\n",
       "      <td>David</td>\n",
       "      <td>24.0</td>\n",
       "      <td>NaN</td>\n",
       "    </tr>\n",
       "    <tr>\n",
       "      <th>4</th>\n",
       "      <td>Eve</td>\n",
       "      <td>NaN</td>\n",
       "      <td>Madrid</td>\n",
       "    </tr>\n",
       "  </tbody>\n",
       "</table>\n",
       "</div>"
      ],
      "text/plain": [
       "      Name   Age      City\n",
       "0    Alice  25.0  New York\n",
       "1      Bob  32.0    London\n",
       "2  Charlie  22.0     Paris\n",
       "3    David  24.0       NaN\n",
       "4      Eve   NaN    Madrid"
      ]
     },
     "execution_count": 36,
     "metadata": {},
     "output_type": "execute_result"
    }
   ],
   "source": [
    "merged_df = pd.merge(ages, cities, on='Name', how = \"outer\")\n",
    "merged_df"
   ]
  },
  {
   "cell_type": "markdown",
   "id": "713698c0",
   "metadata": {
    "deletable": false,
    "editable": false,
    "run_control": {
     "frozen": true
    }
   },
   "source": [
    "A **left merge**, or left join, keeps all the records from the left DataFrame and includes matching records from the right DataFrame. If there is no match, NaN values are filled in for the columns from the right DataFrame."
   ]
  },
  {
   "cell_type": "code",
   "execution_count": 37,
   "id": "3fa9bd4c",
   "metadata": {
    "deletable": false,
    "editable": false
   },
   "outputs": [
    {
     "data": {
      "text/html": [
       "<div>\n",
       "<style scoped>\n",
       "    .dataframe tbody tr th:only-of-type {\n",
       "        vertical-align: middle;\n",
       "    }\n",
       "\n",
       "    .dataframe tbody tr th {\n",
       "        vertical-align: top;\n",
       "    }\n",
       "\n",
       "    .dataframe thead th {\n",
       "        text-align: right;\n",
       "    }\n",
       "</style>\n",
       "<table border=\"1\" class=\"dataframe\">\n",
       "  <thead>\n",
       "    <tr style=\"text-align: right;\">\n",
       "      <th></th>\n",
       "      <th>Name</th>\n",
       "      <th>Age</th>\n",
       "      <th>City</th>\n",
       "    </tr>\n",
       "  </thead>\n",
       "  <tbody>\n",
       "    <tr>\n",
       "      <th>0</th>\n",
       "      <td>Alice</td>\n",
       "      <td>25</td>\n",
       "      <td>New York</td>\n",
       "    </tr>\n",
       "    <tr>\n",
       "      <th>1</th>\n",
       "      <td>Bob</td>\n",
       "      <td>32</td>\n",
       "      <td>London</td>\n",
       "    </tr>\n",
       "    <tr>\n",
       "      <th>2</th>\n",
       "      <td>Charlie</td>\n",
       "      <td>22</td>\n",
       "      <td>Paris</td>\n",
       "    </tr>\n",
       "    <tr>\n",
       "      <th>3</th>\n",
       "      <td>David</td>\n",
       "      <td>24</td>\n",
       "      <td>NaN</td>\n",
       "    </tr>\n",
       "  </tbody>\n",
       "</table>\n",
       "</div>"
      ],
      "text/plain": [
       "      Name  Age      City\n",
       "0    Alice   25  New York\n",
       "1      Bob   32    London\n",
       "2  Charlie   22     Paris\n",
       "3    David   24       NaN"
      ]
     },
     "execution_count": 37,
     "metadata": {},
     "output_type": "execute_result"
    }
   ],
   "source": [
    "# the left dataframe is ages\n",
    "merged_df = pd.merge(ages, cities, on='Name', how = \"left\")\n",
    "merged_df"
   ]
  },
  {
   "cell_type": "markdown",
   "id": "925d5aa2",
   "metadata": {
    "deletable": false,
    "editable": false,
    "run_control": {
     "frozen": true
    }
   },
   "source": [
    "A **right merge**, or right join, keeps all the records from the right DataFrame and includes matching records from the left DataFrame. If there is no match, NaN values are filled in for the columns from the left DataFrame."
   ]
  },
  {
   "cell_type": "code",
   "execution_count": 38,
   "id": "36f32532",
   "metadata": {
    "deletable": false,
    "editable": false
   },
   "outputs": [
    {
     "data": {
      "text/html": [
       "<div>\n",
       "<style scoped>\n",
       "    .dataframe tbody tr th:only-of-type {\n",
       "        vertical-align: middle;\n",
       "    }\n",
       "\n",
       "    .dataframe tbody tr th {\n",
       "        vertical-align: top;\n",
       "    }\n",
       "\n",
       "    .dataframe thead th {\n",
       "        text-align: right;\n",
       "    }\n",
       "</style>\n",
       "<table border=\"1\" class=\"dataframe\">\n",
       "  <thead>\n",
       "    <tr style=\"text-align: right;\">\n",
       "      <th></th>\n",
       "      <th>Name</th>\n",
       "      <th>Age</th>\n",
       "      <th>City</th>\n",
       "    </tr>\n",
       "  </thead>\n",
       "  <tbody>\n",
       "    <tr>\n",
       "      <th>0</th>\n",
       "      <td>Alice</td>\n",
       "      <td>25.0</td>\n",
       "      <td>New York</td>\n",
       "    </tr>\n",
       "    <tr>\n",
       "      <th>1</th>\n",
       "      <td>Bob</td>\n",
       "      <td>32.0</td>\n",
       "      <td>London</td>\n",
       "    </tr>\n",
       "    <tr>\n",
       "      <th>2</th>\n",
       "      <td>Charlie</td>\n",
       "      <td>22.0</td>\n",
       "      <td>Paris</td>\n",
       "    </tr>\n",
       "    <tr>\n",
       "      <th>3</th>\n",
       "      <td>Eve</td>\n",
       "      <td>NaN</td>\n",
       "      <td>Madrid</td>\n",
       "    </tr>\n",
       "  </tbody>\n",
       "</table>\n",
       "</div>"
      ],
      "text/plain": [
       "      Name   Age      City\n",
       "0    Alice  25.0  New York\n",
       "1      Bob  32.0    London\n",
       "2  Charlie  22.0     Paris\n",
       "3      Eve   NaN    Madrid"
      ]
     },
     "execution_count": 38,
     "metadata": {},
     "output_type": "execute_result"
    }
   ],
   "source": [
    "# the right dataframe is cities\n",
    "merged_df = pd.merge(ages, cities, on='Name', how = \"right\")\n",
    "merged_df"
   ]
  },
  {
   "cell_type": "markdown",
   "id": "33fbc2b3",
   "metadata": {
    "deletable": false,
    "editable": false,
    "run_control": {
     "frozen": true
    }
   },
   "source": [
    "The choice of merge type depends on the specific requirements of the analysis or data integration task:\n",
    "* Inner merge is commonly used to combine DataFrames when we only want the matching records and do not want to introduce missing values.\n",
    "* Outer merge is useful when we want to include all records from both DataFrames, regardless of whether there is a match or not. * Left merge is used when we want to complement a given dataset with information from an other dataset. \n",
    "* Right merging is almost never used as it is equivalent to a left merge by swapping the order of the datasets we want to merge.\n",
    "\n",
    "As an exercise, do the following:\n",
    "\n",
    "* Load the data from the files **`\"student_personal_data.csv\"`** and **`\"student_score_data.csv\"`**.\n",
    "\n",
    "* Merge the two datasets together using an **inner** merge based on their common column.\n",
    "\n",
    "* Calculate the average score for each gender using a groupby operation.\n",
    "\n",
    "* Compute the correlation between the ages and the scores. The formula for the correlation between two variables $X$ and $Y$ is given by:\n",
    "\n",
    "$$ r = {\\operatorname{E}(XY) - \\operatorname{E}(X) \\operatorname{E}(Y) \\over \\sigma_X\\sigma_Y}$$\n",
    "\n",
    "* Write the merged dataset to a CSV file named **`\"merged_data.csv\"`** using the following command :\n",
    "\n",
    "```py\n",
    "merged_df.to_csv(\"merged_data.csv\", index = False)\n",
    "```\n",
    "\n",
    "This will write a new file with the dataset you have created. Try to load the merged data again to make sure it was saved properly."
   ]
  },
  {
   "cell_type": "code",
   "execution_count": 39,
   "id": "4a447695",
   "metadata": {
    "deletable": false,
    "editable": false
   },
   "outputs": [
    {
     "name": "stdout",
     "output_type": "stream",
     "text": [
      "Correlation: 0.39826661289601956\n"
     ]
    }
   ],
   "source": [
    "df1 = pd.read_csv(\"student_personal_data.csv\")\n",
    "df2 = pd.read_csv(\"student_score_data.csv\")\n",
    "\n",
    "# Merge the two dataframes on the \"Name\" column\n",
    "merged_df = df1.merge(df2, on = \"Name\", how = \"inner\")\n",
    "\n",
    "# Calculate the average score for each gender\n",
    "merged_df.groupby(\"Gender\")['Score'].mean()\n",
    "\n",
    "# Compute the correlation between the ages and the scores\n",
    "numerator = (merged_df['Age'] * merged_df['Score']).mean() - merged_df['Age'].mean() * merged_df['Score'].mean()\n",
    "denominator = merged_df['Age'].std() * merged_df['Score'].std()\n",
    "\n",
    "correlation = numerator / denominator\n",
    "print(\"Correlation:\", correlation)\n",
    "\n",
    "# Write the merged data to a file\n",
    "merged_df.to_csv(\"merged_data.csv\", index = False)"
   ]
  },
  {
   "cell_type": "markdown",
   "id": "eb541185",
   "metadata": {
    "deletable": false,
    "editable": false,
    "run_control": {
     "frozen": true
    }
   },
   "source": [
    "**Congratulations!** You have completed this course introducing the fundamental tools of data manipulation using pandas. You now know how load data, compute statistics, group data and perform aggregations, apply transformations and merge different dataframes together. These techniques are essential for data exploration and analysis, allowing you to gain insights into your datasets. Keep practicing and exploring pandas' documentation for more advanced applications of data manipulation!"
   ]
  }
 ],
 "metadata": {
  "kernelspec": {
   "display_name": "Python 3 (ipykernel)",
   "language": "python",
   "name": "python3"
  },
  "language_info": {
   "codemirror_mode": {
    "name": "ipython",
    "version": 3
   },
   "file_extension": ".py",
   "mimetype": "text/x-python",
   "name": "python",
   "nbconvert_exporter": "python",
   "pygments_lexer": "ipython3",
   "version": "3.9.13"
  }
 },
 "nbformat": 4,
 "nbformat_minor": 5
}
